{
 "cells": [
  {
   "cell_type": "markdown",
   "metadata": {},
   "source": [
    "# Next Word Prediction:"
   ]
  },
  {
   "cell_type": "markdown",
   "metadata": {},
   "source": [
    "### Importing The Required Libraries:"
   ]
  },
  {
   "cell_type": "code",
   "execution_count": 1,
   "metadata": {},
   "outputs": [],
   "source": [
    "# !pip install tensorflow\n",
    "# !pip install keras\n",
    "# !pip install pydot\n",
    "import tensorflow as tf\n",
    "from tensorflow.keras.preprocessing.text import Tokenizer\n",
    "from tensorflow.keras.layers import Embedding, LSTM, Dense\n",
    "from tensorflow.keras.models import Sequential\n",
    "from tensorflow.keras.utils import to_categorical\n",
    "from tensorflow.keras.optimizers import Adam\n",
    "import pickle\n",
    "import numpy as np\n",
    "import os"
   ]
  },
  {
   "cell_type": "code",
   "execution_count": 2,
   "metadata": {},
   "outputs": [
    {
     "name": "stdout",
     "output_type": "stream",
     "text": [
      "The First Line:  ﻿One morning, when Gregor Samsa woke from troubled dreams, he found\n",
      "\n",
      "The Last Line:  first to get up and stretch out her young body.\n"
     ]
    }
   ],
   "source": [
    "\"\"\"\n",
    "    Dataset: http://www.gutenberg.org/cache/epub/5200/pg5200.txt\n",
    "    Remove all the unnecessary data and label it as Metamorphosis-clean.\n",
    "    The starting and ending lines should be as follows.\n",
    "\n",
    "\"\"\"\n",
    "\n",
    "\n",
    "file = open(\"metamorphosis_clean.txt\", \"r\", encoding = \"utf8\")\n",
    "lines = []\n",
    "\n",
    "for i in file:\n",
    "    lines.append(i)\n",
    "    \n",
    "print(\"The First Line: \", lines[0])\n",
    "print(\"The Last Line: \", lines[-1])"
   ]
  },
  {
   "cell_type": "markdown",
   "metadata": {},
   "source": [
    "### Cleaning the data:"
   ]
  },
  {
   "cell_type": "code",
   "execution_count": 3,
   "metadata": {},
   "outputs": [
    {
     "data": {
      "text/plain": [
       "'One morning, when Gregor Samsa woke from troubled dreams, he found\\n himself transformed in his bed into a horrible vermin.  He lay on\\n his armour-like back, and if he lifted his head a little he could\\n see his brown belly, slightly domed and divided by arches into stiff\\n sections.  The bedding was hardly able to cover it and seemed ready\\n to slide off any mo'"
      ]
     },
     "execution_count": 3,
     "metadata": {},
     "output_type": "execute_result"
    }
   ],
   "source": [
    "data = \"\"\n",
    "\n",
    "for i in lines:\n",
    "    data = ' '. join(lines)\n",
    "    \n",
    "# data = data.replace('\\n', '').replace('\\r', '').replace('\\ufeff', '')\n",
    "data = data.replace('\\r', '').replace('\\ufeff', '')\n",
    "data[:360]"
   ]
  },
  {
   "cell_type": "code",
   "execution_count": 4,
   "metadata": {},
   "outputs": [
    {
     "data": {
      "text/plain": [
       "'One morning  when Gregor Samsa woke from troubled dreams  he found\\n himself transformed in his bed into a horrible vermin   He lay on\\n his armour like back  and if he lifted his head a little he could\\n see his brown belly  slightly domed and divided by arches into stiff\\n sections   The bedding was hardly able to cover it and seemed ready\\n to slide off any moment   His many legs  pitifully thin compared\\n with the size of the rest of him  waved about helplessly as he\\n looked \\n \\n  What s happened t'"
      ]
     },
     "execution_count": 4,
     "metadata": {},
     "output_type": "execute_result"
    }
   ],
   "source": [
    "import string\n",
    "\n",
    "translator = str.maketrans(string.punctuation, ' '*len(string.punctuation)) #map punctuation to space\n",
    "new_data = data.translate(translator)\n",
    "\n",
    "new_data[:500]"
   ]
  },
  {
   "cell_type": "code",
   "execution_count": 5,
   "metadata": {},
   "outputs": [
    {
     "data": {
      "text/plain": [
       "'One morning, when Gregor Samsa woke from troubled dreams, he found himself transformed in his bed into a horrible vermin. lay on armour-like back, and if lifted head little could see brown belly, slightly domed divided by arches stiff sections. The bedding was hardly able to cover it seemed ready slide off any moment. many legs, pitifully thin compared with the size of rest him, waved about helplessly as looked. \"What\\'s happened me?\" thought. wasn\\'t dream. room, proper human room although too sm'"
      ]
     },
     "execution_count": 5,
     "metadata": {},
     "output_type": "execute_result"
    }
   ],
   "source": [
    "z = []\n",
    "\n",
    "for i in data.split():\n",
    "#     print(i)\n",
    "    if i.lower() not in z:\n",
    "        z.append(i)\n",
    "\n",
    "data = ' '.join(z)\n",
    "data[:500]\n",
    "# print(data.split())"
   ]
  },
  {
   "cell_type": "markdown",
   "metadata": {},
   "source": [
    "### Tokenization:"
   ]
  },
  {
   "cell_type": "code",
   "execution_count": 6,
   "metadata": {},
   "outputs": [
    {
     "data": {
      "text/plain": [
       "[31, 49, 703, 1, 4, 704, 280, 705, 281, 16]"
      ]
     },
     "execution_count": 6,
     "metadata": {},
     "output_type": "execute_result"
    }
   ],
   "source": [
    "tokenizer = Tokenizer()\n",
    "tokenizer.fit_on_texts([data])\n",
    "\n",
    "# saving the tokenizer for predict function.\n",
    "pickle.dump(tokenizer, open('tokenizer1.pkl', 'wb'))\n",
    "\n",
    "sequence_data = tokenizer.texts_to_sequences([data])[0]\n",
    "sequence_data[:10]"
   ]
  },
  {
   "cell_type": "code",
   "execution_count": 7,
   "metadata": {},
   "outputs": [
    {
     "name": "stdout",
     "output_type": "stream",
     "text": [
      "2617\n"
     ]
    }
   ],
   "source": [
    "vocab_size = len(tokenizer.word_index) + 1\n",
    "print(vocab_size)"
   ]
  },
  {
   "cell_type": "code",
   "execution_count": 8,
   "metadata": {},
   "outputs": [
    {
     "name": "stdout",
     "output_type": "stream",
     "text": [
      "The Length of sequences are:  4229\n"
     ]
    },
    {
     "data": {
      "text/plain": [
       "array([[ 31,  49],\n",
       "       [ 49, 703],\n",
       "       [703,   1],\n",
       "       [  1,   4],\n",
       "       [  4, 704],\n",
       "       [704, 280],\n",
       "       [280, 705],\n",
       "       [705, 281],\n",
       "       [281,  16],\n",
       "       [ 16, 706]])"
      ]
     },
     "execution_count": 8,
     "metadata": {},
     "output_type": "execute_result"
    }
   ],
   "source": [
    "sequences = []\n",
    "\n",
    "for i in range(1, len(sequence_data)):\n",
    "    words = sequence_data[i-1:i+1]\n",
    "    sequences.append(words)\n",
    "    \n",
    "print(\"The Length of sequences are: \", len(sequences))\n",
    "sequences = np.array(sequences)\n",
    "sequences[:10]"
   ]
  },
  {
   "cell_type": "code",
   "execution_count": 9,
   "metadata": {},
   "outputs": [],
   "source": [
    "X = []\n",
    "y = []\n",
    "\n",
    "for i in sequences:\n",
    "    X.append(i[0])\n",
    "    y.append(i[1])\n",
    "    \n",
    "X = np.array(X)\n",
    "y = np.array(y)"
   ]
  },
  {
   "cell_type": "code",
   "execution_count": 10,
   "metadata": {},
   "outputs": [
    {
     "name": "stdout",
     "output_type": "stream",
     "text": [
      "The Data is:  [ 31  49 703   1   4]\n",
      "The responses are:  [ 49 703   1   4 704]\n"
     ]
    }
   ],
   "source": [
    "print(\"The Data is: \", X[:5])\n",
    "print(\"The responses are: \", y[:5])"
   ]
  },
  {
   "cell_type": "code",
   "execution_count": 11,
   "metadata": {},
   "outputs": [
    {
     "data": {
      "text/plain": [
       "array([[0., 0., 0., ..., 0., 0., 0.],\n",
       "       [0., 0., 0., ..., 0., 0., 0.],\n",
       "       [0., 1., 0., ..., 0., 0., 0.],\n",
       "       [0., 0., 0., ..., 0., 0., 0.],\n",
       "       [0., 0., 0., ..., 0., 0., 0.]], dtype=float32)"
      ]
     },
     "execution_count": 11,
     "metadata": {},
     "output_type": "execute_result"
    }
   ],
   "source": [
    "y = to_categorical(y, num_classes=vocab_size)\n",
    "y[:5]"
   ]
  },
  {
   "cell_type": "markdown",
   "metadata": {},
   "source": [
    "### Creating the Model:"
   ]
  },
  {
   "cell_type": "code",
   "execution_count": 12,
   "metadata": {},
   "outputs": [],
   "source": [
    "model = Sequential()\n",
    "model.add(Embedding(vocab_size, 10, input_length=1))\n",
    "model.add(LSTM(1000, return_sequences=True))\n",
    "model.add(LSTM(1000))\n",
    "model.add(Dense(1000, activation=\"relu\"))\n",
    "model.add(Dense(vocab_size, activation=\"softmax\"))"
   ]
  },
  {
   "cell_type": "code",
   "execution_count": 13,
   "metadata": {},
   "outputs": [
    {
     "name": "stdout",
     "output_type": "stream",
     "text": [
      "Model: \"sequential\"\n",
      "_________________________________________________________________\n",
      "Layer (type)                 Output Shape              Param #   \n",
      "=================================================================\n",
      "embedding (Embedding)        (None, 1, 10)             26170     \n",
      "_________________________________________________________________\n",
      "lstm (LSTM)                  (None, 1, 1000)           4044000   \n",
      "_________________________________________________________________\n",
      "lstm_1 (LSTM)                (None, 1000)              8004000   \n",
      "_________________________________________________________________\n",
      "dense (Dense)                (None, 1000)              1001000   \n",
      "_________________________________________________________________\n",
      "dense_1 (Dense)              (None, 2617)              2619617   \n",
      "=================================================================\n",
      "Total params: 15,694,787\n",
      "Trainable params: 15,694,787\n",
      "Non-trainable params: 0\n",
      "_________________________________________________________________\n"
     ]
    }
   ],
   "source": [
    "model.summary()"
   ]
  },
  {
   "cell_type": "markdown",
   "metadata": {},
   "source": [
    "### Plot The Model:"
   ]
  },
  {
   "cell_type": "code",
   "execution_count": 14,
   "metadata": {},
   "outputs": [
    {
     "name": "stdout",
     "output_type": "stream",
     "text": [
      "('Failed to import pydot. You must `pip install pydot` and install graphviz (https://graphviz.gitlab.io/download/), ', 'for `pydotprint` to work.')\n"
     ]
    }
   ],
   "source": [
    "# https://graphviz.gitlab.io/download/\n",
    "from tensorflow import keras\n",
    "from keras.utils.vis_utils import plot_model\n",
    "\n",
    "keras.utils.plot_model(model, to_file='model.png', show_layer_names=True)"
   ]
  },
  {
   "cell_type": "markdown",
   "metadata": {},
   "source": [
    "### Callbacks:"
   ]
  },
  {
   "cell_type": "code",
   "execution_count": 15,
   "metadata": {},
   "outputs": [],
   "source": [
    "from tensorflow.keras.callbacks import ModelCheckpoint\n",
    "from tensorflow.keras.callbacks import ReduceLROnPlateau\n",
    "from tensorflow.keras.callbacks import TensorBoard\n",
    "\n",
    "checkpoint = ModelCheckpoint(\"nextword1.h5\", monitor='loss', verbose=1,\n",
    "    save_best_only=True, mode='auto')\n",
    "\n",
    "reduce = ReduceLROnPlateau(monitor='loss', factor=0.2, patience=3, min_lr=0.0001, verbose = 1)\n",
    "\n",
    "logdir='logsnextword1'\n",
    "tensorboard_Visualization = TensorBoard(log_dir=logdir)"
   ]
  },
  {
   "cell_type": "markdown",
   "metadata": {},
   "source": [
    "### Compile The Model:"
   ]
  },
  {
   "cell_type": "code",
   "execution_count": 16,
   "metadata": {},
   "outputs": [],
   "source": [
    "model.compile(loss=\"categorical_crossentropy\", optimizer=Adam(lr=0.001))"
   ]
  },
  {
   "cell_type": "code",
   "execution_count": 17,
   "metadata": {},
   "outputs": [],
   "source": [
    "# model.compile(loss=\"sparse_categorical_crossentropy\", optimizer=\"sgd\",\n",
    "#               metrics=[\"accuracy\"])"
   ]
  },
  {
   "cell_type": "markdown",
   "metadata": {},
   "source": [
    "### Fit The Model:"
   ]
  },
  {
   "cell_type": "code",
   "execution_count": 18,
   "metadata": {},
   "outputs": [],
   "source": [
    "# history = model.fit(X_train, y_train, epochs=20, validation_data=(X_valid, y_valid))\n",
    "# history = model.fit(X, y, epochs=20)"
   ]
  },
  {
   "cell_type": "code",
   "execution_count": 19,
   "metadata": {},
   "outputs": [
    {
     "name": "stdout",
     "output_type": "stream",
     "text": [
      "Epoch 1/150\n",
      "67/67 [==============================] - 12s 119ms/step - loss: 7.8500\n",
      "\n",
      "Epoch 00001: loss improved from inf to 7.84613, saving model to nextword1.h5\n",
      "Epoch 2/150\n",
      "67/67 [==============================] - 6s 93ms/step - loss: 7.6130\n",
      "\n",
      "Epoch 00002: loss improved from 7.84613 to 7.58893, saving model to nextword1.h5\n",
      "Epoch 3/150\n",
      "67/67 [==============================] - 7s 103ms/step - loss: 7.3318\n",
      "\n",
      "Epoch 00003: loss improved from 7.58893 to 7.36449, saving model to nextword1.h5\n",
      "Epoch 4/150\n",
      "67/67 [==============================] - 7s 105ms/step - loss: 7.1368\n",
      "\n",
      "Epoch 00004: loss improved from 7.36449 to 7.13444, saving model to nextword1.h5\n",
      "Epoch 5/150\n",
      "67/67 [==============================] - 8s 116ms/step - loss: 6.9431\n",
      "\n",
      "Epoch 00005: loss improved from 7.13444 to 6.98182, saving model to nextword1.h5\n",
      "Epoch 6/150\n",
      "67/67 [==============================] - 7s 109ms/step - loss: 6.7895\n",
      "\n",
      "Epoch 00006: loss improved from 6.98182 to 6.84596, saving model to nextword1.h5\n",
      "Epoch 7/150\n",
      "67/67 [==============================] - 7s 111ms/step - loss: 6.6823\n",
      "\n",
      "Epoch 00007: loss improved from 6.84596 to 6.73612, saving model to nextword1.h5\n",
      "Epoch 8/150\n",
      "67/67 [==============================] - 7s 109ms/step - loss: 6.6039\n",
      "\n",
      "Epoch 00008: loss improved from 6.73612 to 6.63589, saving model to nextword1.h5\n",
      "Epoch 9/150\n",
      "67/67 [==============================] - 7s 110ms/step - loss: 6.5253\n",
      "\n",
      "Epoch 00009: loss improved from 6.63589 to 6.54805, saving model to nextword1.h5\n",
      "Epoch 10/150\n",
      "67/67 [==============================] - 7s 108ms/step - loss: 6.4282\n",
      "\n",
      "Epoch 00010: loss improved from 6.54805 to 6.45725, saving model to nextword1.h5\n",
      "Epoch 11/150\n",
      "67/67 [==============================] - 7s 108ms/step - loss: 6.3360\n",
      "\n",
      "Epoch 00011: loss improved from 6.45725 to 6.36993, saving model to nextword1.h5\n",
      "Epoch 12/150\n",
      "67/67 [==============================] - 7s 111ms/step - loss: 6.2195\n",
      "\n",
      "Epoch 00012: loss improved from 6.36993 to 6.27847, saving model to nextword1.h5\n",
      "Epoch 13/150\n",
      "67/67 [==============================] - 8s 113ms/step - loss: 6.1453\n",
      "\n",
      "Epoch 00013: loss improved from 6.27847 to 6.18792, saving model to nextword1.h5\n",
      "Epoch 14/150\n",
      "67/67 [==============================] - 9s 129ms/step - loss: 6.0910\n",
      "\n",
      "Epoch 00014: loss improved from 6.18792 to 6.10087, saving model to nextword1.h5\n",
      "Epoch 15/150\n",
      "67/67 [==============================] - 8s 117ms/step - loss: 5.9365\n",
      "\n",
      "Epoch 00015: loss improved from 6.10087 to 6.01485, saving model to nextword1.h5\n",
      "Epoch 16/150\n",
      "67/67 [==============================] - 7s 102ms/step - loss: 5.8730\n",
      "\n",
      "Epoch 00016: loss improved from 6.01485 to 5.93131, saving model to nextword1.h5\n",
      "Epoch 17/150\n",
      "67/67 [==============================] - 7s 102ms/step - loss: 5.7884\n",
      "\n",
      "Epoch 00017: loss improved from 5.93131 to 5.85881, saving model to nextword1.h5\n",
      "Epoch 18/150\n",
      "67/67 [==============================] - 7s 101ms/step - loss: 5.7147\n",
      "\n",
      "Epoch 00018: loss improved from 5.85881 to 5.79367, saving model to nextword1.h5\n",
      "Epoch 19/150\n",
      "67/67 [==============================] - 7s 100ms/step - loss: 5.6569\n",
      "\n",
      "Epoch 00019: loss improved from 5.79367 to 5.72281, saving model to nextword1.h5\n",
      "Epoch 20/150\n",
      "67/67 [==============================] - 7s 102ms/step - loss: 5.6061 0s - lo\n",
      "\n",
      "Epoch 00020: loss improved from 5.72281 to 5.66640, saving model to nextword1.h5\n",
      "Epoch 21/150\n",
      "67/67 [==============================] - 7s 100ms/step - loss: 5.4702\n",
      "\n",
      "Epoch 00021: loss improved from 5.66640 to 5.56842, saving model to nextword1.h5\n",
      "Epoch 22/150\n",
      "67/67 [==============================] - 7s 101ms/step - loss: 5.3745\n",
      "\n",
      "Epoch 00022: loss improved from 5.56842 to 5.43457, saving model to nextword1.h5\n",
      "Epoch 23/150\n",
      "67/67 [==============================] - 7s 100ms/step - loss: 5.1920\n",
      "\n",
      "Epoch 00023: loss improved from 5.43457 to 5.29236, saving model to nextword1.h5\n",
      "Epoch 24/150\n",
      "67/67 [==============================] - 7s 100ms/step - loss: 5.0477\n",
      "\n",
      "Epoch 00024: loss improved from 5.29236 to 5.18015, saving model to nextword1.h5\n",
      "Epoch 25/150\n",
      "67/67 [==============================] - 7s 100ms/step - loss: 4.9265\n",
      "\n",
      "Epoch 00025: loss improved from 5.18015 to 5.05327, saving model to nextword1.h5\n",
      "Epoch 26/150\n",
      "67/67 [==============================] - 7s 100ms/step - loss: 4.8596\n",
      "\n",
      "Epoch 00026: loss improved from 5.05327 to 4.97136, saving model to nextword1.h5\n",
      "Epoch 27/150\n",
      "67/67 [==============================] - 7s 111ms/step - loss: 4.7216\n",
      "\n",
      "Epoch 00027: loss improved from 4.97136 to 4.87160, saving model to nextword1.h5\n",
      "Epoch 28/150\n",
      "67/67 [==============================] - 7s 104ms/step - loss: 4.6996\n",
      "\n",
      "Epoch 00028: loss improved from 4.87160 to 4.80684, saving model to nextword1.h5\n",
      "Epoch 29/150\n",
      "67/67 [==============================] - 7s 108ms/step - loss: 4.6755\n",
      "\n",
      "Epoch 00029: loss improved from 4.80684 to 4.76795, saving model to nextword1.h5\n",
      "Epoch 30/150\n",
      "67/67 [==============================] - 7s 104ms/step - loss: 4.5322\n",
      "\n",
      "Epoch 00030: loss improved from 4.76795 to 4.67802, saving model to nextword1.h5\n",
      "Epoch 31/150\n",
      "67/67 [==============================] - 7s 108ms/step - loss: 4.4242\n",
      "\n",
      "Epoch 00031: loss improved from 4.67802 to 4.58939, saving model to nextword1.h5\n",
      "Epoch 32/150\n",
      "67/67 [==============================] - 7s 100ms/step - loss: 4.3516\n",
      "\n",
      "Epoch 00032: loss improved from 4.58939 to 4.53272, saving model to nextword1.h5\n",
      "Epoch 33/150\n",
      "67/67 [==============================] - 7s 97ms/step - loss: 4.3180\n",
      "\n",
      "Epoch 00033: loss improved from 4.53272 to 4.46676, saving model to nextword1.h5\n",
      "Epoch 34/150\n",
      "67/67 [==============================] - 7s 99ms/step - loss: 4.2791\n",
      "\n",
      "Epoch 00034: loss improved from 4.46676 to 4.43142, saving model to nextword1.h5\n",
      "Epoch 35/150\n",
      "67/67 [==============================] - 7s 98ms/step - loss: 4.1927\n",
      "\n",
      "Epoch 00035: loss improved from 4.43142 to 4.36916, saving model to nextword1.h5\n",
      "Epoch 36/150\n",
      "67/67 [==============================] - 6s 97ms/step - loss: 4.1481\n",
      "\n",
      "Epoch 00036: loss improved from 4.36916 to 4.30074, saving model to nextword1.h5\n",
      "Epoch 37/150\n",
      "67/67 [==============================] - 7s 97ms/step - loss: 4.0918\n",
      "\n",
      "Epoch 00037: loss improved from 4.30074 to 4.26440, saving model to nextword1.h5\n",
      "Epoch 38/150\n",
      "67/67 [==============================] - 6s 97ms/step - loss: 4.0995\n",
      "\n",
      "Epoch 00038: loss improved from 4.26440 to 4.25110, saving model to nextword1.h5\n",
      "Epoch 39/150\n",
      "67/67 [==============================] - 6s 96ms/step - loss: 4.0217\n",
      "\n",
      "Epoch 00039: loss improved from 4.25110 to 4.20621, saving model to nextword1.h5\n",
      "Epoch 40/150\n",
      "67/67 [==============================] - 6s 96ms/step - loss: 4.0368\n",
      "\n",
      "Epoch 00040: loss improved from 4.20621 to 4.17257, saving model to nextword1.h5\n",
      "Epoch 41/150\n",
      "67/67 [==============================] - 6s 97ms/step - loss: 3.9691: 0s - loss: 3.9\n",
      "\n",
      "Epoch 00041: loss improved from 4.17257 to 4.10675, saving model to nextword1.h5\n",
      "Epoch 42/150\n",
      "67/67 [==============================] - 6s 96ms/step - loss: 3.8997\n",
      "\n",
      "Epoch 00042: loss improved from 4.10675 to 4.05310, saving model to nextword1.h5\n",
      "Epoch 43/150\n",
      "67/67 [==============================] - 7s 99ms/step - loss: 3.8726\n",
      "\n",
      "Epoch 00043: loss improved from 4.05310 to 4.03492, saving model to nextword1.h5\n",
      "Epoch 44/150\n",
      "67/67 [==============================] - 6s 97ms/step - loss: 3.7972\n",
      "\n",
      "Epoch 00044: loss improved from 4.03492 to 3.99789, saving model to nextword1.h5\n",
      "Epoch 45/150\n",
      "67/67 [==============================] - 6s 96ms/step - loss: 3.8170\n",
      "\n",
      "Epoch 00045: loss improved from 3.99789 to 3.98150, saving model to nextword1.h5\n",
      "Epoch 46/150\n",
      "67/67 [==============================] - 6s 97ms/step - loss: 3.7819\n",
      "\n",
      "Epoch 00046: loss improved from 3.98150 to 3.92813, saving model to nextword1.h5\n",
      "Epoch 47/150\n",
      "67/67 [==============================] - 6s 97ms/step - loss: 3.7596\n",
      "\n",
      "Epoch 00047: loss improved from 3.92813 to 3.91228, saving model to nextword1.h5\n",
      "Epoch 48/150\n",
      "67/67 [==============================] - 6s 96ms/step - loss: 3.7034\n",
      "\n",
      "Epoch 00048: loss improved from 3.91228 to 3.87008, saving model to nextword1.h5\n",
      "Epoch 49/150\n",
      "67/67 [==============================] - 6s 96ms/step - loss: 3.6868\n",
      "\n",
      "Epoch 00049: loss improved from 3.87008 to 3.86080, saving model to nextword1.h5\n",
      "Epoch 50/150\n",
      "67/67 [==============================] - 6s 97ms/step - loss: 3.6706: \n",
      "\n",
      "Epoch 00050: loss improved from 3.86080 to 3.85220, saving model to nextword1.h5\n"
     ]
    },
    {
     "name": "stdout",
     "output_type": "stream",
     "text": [
      "Epoch 51/150\n",
      "67/67 [==============================] - 6s 97ms/step - loss: 3.6534\n",
      "\n",
      "Epoch 00051: loss improved from 3.85220 to 3.79048, saving model to nextword1.h5\n",
      "Epoch 52/150\n",
      "67/67 [==============================] - 6s 97ms/step - loss: 3.5831\n",
      "\n",
      "Epoch 00052: loss improved from 3.79048 to 3.73686, saving model to nextword1.h5\n",
      "Epoch 53/150\n",
      "67/67 [==============================] - 7s 101ms/step - loss: 3.5709\n",
      "\n",
      "Epoch 00053: loss improved from 3.73686 to 3.71318, saving model to nextword1.h5\n",
      "Epoch 54/150\n",
      "67/67 [==============================] - 6s 97ms/step - loss: 3.5291\n",
      "\n",
      "Epoch 00054: loss improved from 3.71318 to 3.70286, saving model to nextword1.h5\n",
      "Epoch 55/150\n",
      "67/67 [==============================] - 7s 100ms/step - loss: 3.5026\n",
      "\n",
      "Epoch 00055: loss improved from 3.70286 to 3.67178, saving model to nextword1.h5\n",
      "Epoch 56/150\n",
      "67/67 [==============================] - 7s 105ms/step - loss: 3.4891\n",
      "\n",
      "Epoch 00056: loss improved from 3.67178 to 3.64353, saving model to nextword1.h5\n",
      "Epoch 57/150\n",
      "67/67 [==============================] - 6s 97ms/step - loss: 3.4397\n",
      "\n",
      "Epoch 00057: loss improved from 3.64353 to 3.61776, saving model to nextword1.h5\n",
      "Epoch 58/150\n",
      "67/67 [==============================] - 7s 98ms/step - loss: 3.4270\n",
      "\n",
      "Epoch 00058: loss improved from 3.61776 to 3.57400, saving model to nextword1.h5\n",
      "Epoch 59/150\n",
      "67/67 [==============================] - 7s 98ms/step - loss: 3.4261\n",
      "\n",
      "Epoch 00059: loss improved from 3.57400 to 3.55194, saving model to nextword1.h5\n",
      "Epoch 60/150\n",
      "67/67 [==============================] - 7s 102ms/step - loss: 3.3737\n",
      "\n",
      "Epoch 00060: loss improved from 3.55194 to 3.53041, saving model to nextword1.h5\n",
      "Epoch 61/150\n",
      "67/67 [==============================] - 7s 102ms/step - loss: 3.3402\n",
      "\n",
      "Epoch 00061: loss improved from 3.53041 to 3.47770, saving model to nextword1.h5\n",
      "Epoch 62/150\n",
      "67/67 [==============================] - 8s 113ms/step - loss: 3.3001\n",
      "\n",
      "Epoch 00062: loss improved from 3.47770 to 3.44525, saving model to nextword1.h5\n",
      "Epoch 63/150\n",
      "67/67 [==============================] - 8s 123ms/step - loss: 3.2154\n",
      "\n",
      "Epoch 00063: loss improved from 3.44525 to 3.40199, saving model to nextword1.h5\n",
      "Epoch 64/150\n",
      "67/67 [==============================] - 7s 112ms/step - loss: 3.1891\n",
      "\n",
      "Epoch 00064: loss improved from 3.40199 to 3.36393, saving model to nextword1.h5\n",
      "Epoch 65/150\n",
      "67/67 [==============================] - 7s 104ms/step - loss: 3.1744\n",
      "\n",
      "Epoch 00065: loss improved from 3.36393 to 3.32995, saving model to nextword1.h5\n",
      "Epoch 66/150\n",
      "67/67 [==============================] - 7s 103ms/step - loss: 3.1626\n",
      "\n",
      "Epoch 00066: loss did not improve from 3.32995\n",
      "Epoch 67/150\n",
      "67/67 [==============================] - 7s 99ms/step - loss: 3.1426\n",
      "\n",
      "Epoch 00067: loss improved from 3.32995 to 3.28231, saving model to nextword1.h5\n",
      "Epoch 68/150\n",
      "67/67 [==============================] - 7s 104ms/step - loss: 3.0632\n",
      "\n",
      "Epoch 00068: loss improved from 3.28231 to 3.23655, saving model to nextword1.h5\n",
      "Epoch 69/150\n",
      "67/67 [==============================] - 7s 102ms/step - loss: 3.0195\n",
      "\n",
      "Epoch 00069: loss improved from 3.23655 to 3.17954, saving model to nextword1.h5\n",
      "Epoch 70/150\n",
      "67/67 [==============================] - 7s 99ms/step - loss: 2.9723\n",
      "\n",
      "Epoch 00070: loss improved from 3.17954 to 3.14629, saving model to nextword1.h5\n",
      "Epoch 71/150\n",
      "67/67 [==============================] - 7s 103ms/step - loss: 2.9760\n",
      "\n",
      "Epoch 00071: loss improved from 3.14629 to 3.11332, saving model to nextword1.h5\n",
      "Epoch 72/150\n",
      "67/67 [==============================] - 8s 122ms/step - loss: 2.8716\n",
      "\n",
      "Epoch 00072: loss improved from 3.11332 to 3.06114, saving model to nextword1.h5\n",
      "Epoch 73/150\n",
      "67/67 [==============================] - 8s 114ms/step - loss: 2.8716\n",
      "\n",
      "Epoch 00073: loss improved from 3.06114 to 3.02360, saving model to nextword1.h5\n",
      "Epoch 74/150\n",
      "67/67 [==============================] - 7s 111ms/step - loss: 2.7978\n",
      "\n",
      "Epoch 00074: loss improved from 3.02360 to 2.98090, saving model to nextword1.h5\n",
      "Epoch 75/150\n",
      "67/67 [==============================] - 8s 116ms/step - loss: 2.8088\n",
      "\n",
      "Epoch 00075: loss improved from 2.98090 to 2.96030, saving model to nextword1.h5\n",
      "Epoch 76/150\n",
      "67/67 [==============================] - 7s 108ms/step - loss: 2.7171\n",
      "\n",
      "Epoch 00076: loss improved from 2.96030 to 2.89858, saving model to nextword1.h5\n",
      "Epoch 77/150\n",
      "67/67 [==============================] - 8s 114ms/step - loss: 2.7025\n",
      "\n",
      "Epoch 00077: loss improved from 2.89858 to 2.88854, saving model to nextword1.h5\n",
      "Epoch 78/150\n",
      "67/67 [==============================] - 7s 105ms/step - loss: 2.6878\n",
      "\n",
      "Epoch 00078: loss improved from 2.88854 to 2.82872, saving model to nextword1.h5\n",
      "Epoch 79/150\n",
      "67/67 [==============================] - 7s 103ms/step - loss: 2.6048\n",
      "\n",
      "Epoch 00079: loss improved from 2.82872 to 2.77101, saving model to nextword1.h5\n",
      "Epoch 80/150\n",
      "67/67 [==============================] - 8s 114ms/step - loss: 2.5740\n",
      "\n",
      "Epoch 00080: loss improved from 2.77101 to 2.73352, saving model to nextword1.h5\n",
      "Epoch 81/150\n",
      "67/67 [==============================] - 7s 106ms/step - loss: 2.5463\n",
      "\n",
      "Epoch 00081: loss improved from 2.73352 to 2.71646, saving model to nextword1.h5\n",
      "Epoch 82/150\n",
      "67/67 [==============================] - 7s 103ms/step - loss: 2.4955\n",
      "\n",
      "Epoch 00082: loss improved from 2.71646 to 2.67323, saving model to nextword1.h5\n",
      "Epoch 83/150\n",
      "67/67 [==============================] - 7s 105ms/step - loss: 2.4673\n",
      "\n",
      "Epoch 00083: loss improved from 2.67323 to 2.63204, saving model to nextword1.h5\n",
      "Epoch 84/150\n",
      "67/67 [==============================] - 8s 118ms/step - loss: 2.4813\n",
      "\n",
      "Epoch 00084: loss improved from 2.63204 to 2.61642, saving model to nextword1.h5\n",
      "Epoch 85/150\n",
      "67/67 [==============================] - 7s 109ms/step - loss: 2.4647\n",
      "\n",
      "Epoch 00085: loss improved from 2.61642 to 2.59895, saving model to nextword1.h5\n",
      "Epoch 86/150\n",
      "67/67 [==============================] - 7s 110ms/step - loss: 2.3622\n",
      "\n",
      "Epoch 00086: loss improved from 2.59895 to 2.55619, saving model to nextword1.h5\n",
      "Epoch 87/150\n",
      "67/67 [==============================] - 7s 107ms/step - loss: 2.3561\n",
      "\n",
      "Epoch 00087: loss improved from 2.55619 to 2.50234, saving model to nextword1.h5\n",
      "Epoch 88/150\n",
      "67/67 [==============================] - 7s 107ms/step - loss: 2.3452\n",
      "\n",
      "Epoch 00088: loss improved from 2.50234 to 2.48952, saving model to nextword1.h5\n",
      "Epoch 89/150\n",
      "67/67 [==============================] - 7s 107ms/step - loss: 2.3190\n",
      "\n",
      "Epoch 00089: loss improved from 2.48952 to 2.48725, saving model to nextword1.h5\n",
      "Epoch 90/150\n",
      "67/67 [==============================] - 7s 107ms/step - loss: 2.2687\n",
      "\n",
      "Epoch 00090: loss improved from 2.48725 to 2.45206, saving model to nextword1.h5\n",
      "Epoch 91/150\n",
      "67/67 [==============================] - 7s 109ms/step - loss: 2.2656\n",
      "\n",
      "Epoch 00091: loss improved from 2.45206 to 2.40248, saving model to nextword1.h5\n",
      "Epoch 92/150\n",
      "67/67 [==============================] - 8s 114ms/step - loss: 2.2198\n",
      "\n",
      "Epoch 00092: loss improved from 2.40248 to 2.36349, saving model to nextword1.h5\n",
      "Epoch 93/150\n",
      "67/67 [==============================] - 7s 109ms/step - loss: 2.1806\n",
      "\n",
      "Epoch 00093: loss improved from 2.36349 to 2.33231, saving model to nextword1.h5\n",
      "Epoch 94/150\n",
      "67/67 [==============================] - 7s 104ms/step - loss: 2.1439\n",
      "\n",
      "Epoch 00094: loss improved from 2.33231 to 2.30843, saving model to nextword1.h5\n",
      "Epoch 95/150\n",
      "67/67 [==============================] - 7s 105ms/step - loss: 2.1267\n",
      "\n",
      "Epoch 00095: loss did not improve from 2.30843\n",
      "Epoch 96/150\n",
      "67/67 [==============================] - 7s 104ms/step - loss: 2.1827\n",
      "\n",
      "Epoch 00096: loss did not improve from 2.30843\n",
      "Epoch 97/150\n",
      "67/67 [==============================] - 7s 103ms/step - loss: 2.1667\n",
      "\n",
      "Epoch 00097: loss improved from 2.30843 to 2.30667, saving model to nextword1.h5\n",
      "Epoch 98/150\n",
      "67/67 [==============================] - 7s 111ms/step - loss: 2.1304\n",
      "\n",
      "Epoch 00098: loss improved from 2.30667 to 2.25566, saving model to nextword1.h5\n",
      "Epoch 99/150\n",
      "67/67 [==============================] - 7s 110ms/step - loss: 2.0749\n",
      "\n",
      "Epoch 00099: loss improved from 2.25566 to 2.22293, saving model to nextword1.h5\n",
      "Epoch 100/150\n",
      "67/67 [==============================] - 8s 115ms/step - loss: 2.0691\n",
      "\n",
      "Epoch 00100: loss improved from 2.22293 to 2.20727, saving model to nextword1.h5\n",
      "Epoch 101/150\n"
     ]
    },
    {
     "name": "stdout",
     "output_type": "stream",
     "text": [
      "67/67 [==============================] - 7s 105ms/step - loss: 2.0274\n",
      "\n",
      "Epoch 00101: loss improved from 2.20727 to 2.14648, saving model to nextword1.h5\n",
      "Epoch 102/150\n",
      "67/67 [==============================] - 7s 107ms/step - loss: 1.9829\n",
      "\n",
      "Epoch 00102: loss improved from 2.14648 to 2.14201, saving model to nextword1.h5\n",
      "Epoch 103/150\n",
      "67/67 [==============================] - 7s 109ms/step - loss: 1.9973\n",
      "\n",
      "Epoch 00103: loss improved from 2.14201 to 2.13201, saving model to nextword1.h5\n",
      "Epoch 104/150\n",
      "67/67 [==============================] - 7s 111ms/step - loss: 1.9533\n",
      "\n",
      "Epoch 00104: loss improved from 2.13201 to 2.11901, saving model to nextword1.h5\n",
      "Epoch 105/150\n",
      "67/67 [==============================] - 8s 112ms/step - loss: 1.9171\n",
      "\n",
      "Epoch 00105: loss improved from 2.11901 to 2.07606, saving model to nextword1.h5\n",
      "Epoch 106/150\n",
      "67/67 [==============================] - 7s 105ms/step - loss: 1.9157\n",
      "\n",
      "Epoch 00106: loss improved from 2.07606 to 2.06745, saving model to nextword1.h5\n",
      "Epoch 107/150\n",
      "67/67 [==============================] - 8s 117ms/step - loss: 1.8895\n",
      "\n",
      "Epoch 00107: loss improved from 2.06745 to 2.02884, saving model to nextword1.h5\n",
      "Epoch 108/150\n",
      "67/67 [==============================] - 7s 104ms/step - loss: 1.9498\n",
      "\n",
      "Epoch 00108: loss did not improve from 2.02884\n",
      "Epoch 109/150\n",
      "67/67 [==============================] - 7s 97ms/step - loss: 1.8821\n",
      "\n",
      "Epoch 00109: loss did not improve from 2.02884\n",
      "Epoch 110/150\n",
      "67/67 [==============================] - 6s 96ms/step - loss: 1.8302\n",
      "\n",
      "Epoch 00110: loss improved from 2.02884 to 2.00454, saving model to nextword1.h5\n",
      "Epoch 111/150\n",
      "67/67 [==============================] - 7s 105ms/step - loss: 1.8421 1s \n",
      "\n",
      "Epoch 00111: loss improved from 2.00454 to 1.98504, saving model to nextword1.h5\n",
      "Epoch 112/150\n",
      "67/67 [==============================] - 7s 105ms/step - loss: 1.8293\n",
      "\n",
      "Epoch 00112: loss improved from 1.98504 to 1.97067, saving model to nextword1.h5\n",
      "Epoch 113/150\n",
      "67/67 [==============================] - 7s 102ms/step - loss: 1.8090\n",
      "\n",
      "Epoch 00113: loss did not improve from 1.97067\n",
      "Epoch 114/150\n",
      "67/67 [==============================] - 7s 100ms/step - loss: 1.7851\n",
      "\n",
      "Epoch 00114: loss improved from 1.97067 to 1.92182, saving model to nextword1.h5\n",
      "Epoch 115/150\n",
      "67/67 [==============================] - 7s 106ms/step - loss: 1.6574\n",
      "\n",
      "Epoch 00115: loss improved from 1.92182 to 1.86203, saving model to nextword1.h5\n",
      "Epoch 116/150\n",
      "67/67 [==============================] - 7s 108ms/step - loss: 1.7354\n",
      "\n",
      "Epoch 00116: loss did not improve from 1.86203\n",
      "Epoch 117/150\n",
      "67/67 [==============================] - 7s 108ms/step - loss: 1.7349\n",
      "\n",
      "Epoch 00117: loss did not improve from 1.86203\n",
      "Epoch 118/150\n",
      "67/67 [==============================] - 7s 102ms/step - loss: 1.7234\n",
      "\n",
      "Epoch 00118: loss improved from 1.86203 to 1.84303, saving model to nextword1.h5\n",
      "Epoch 119/150\n",
      "67/67 [==============================] - 7s 103ms/step - loss: 1.7046\n",
      "\n",
      "Epoch 00119: loss improved from 1.84303 to 1.81448, saving model to nextword1.h5\n",
      "Epoch 120/150\n",
      "67/67 [==============================] - 7s 103ms/step - loss: 1.6699\n",
      "\n",
      "Epoch 00120: loss did not improve from 1.81448\n",
      "Epoch 121/150\n",
      "67/67 [==============================] - 7s 105ms/step - loss: 1.7081\n",
      "\n",
      "Epoch 00121: loss improved from 1.81448 to 1.81343, saving model to nextword1.h5\n",
      "Epoch 122/150\n",
      "67/67 [==============================] - 7s 112ms/step - loss: 1.6870\n",
      "\n",
      "Epoch 00122: loss did not improve from 1.81343\n",
      "Epoch 123/150\n",
      "67/67 [==============================] - 7s 103ms/step - loss: 1.6429\n",
      "\n",
      "Epoch 00123: loss improved from 1.81343 to 1.80634, saving model to nextword1.h5\n",
      "Epoch 124/150\n",
      "67/67 [==============================] - 7s 100ms/step - loss: 1.6506\n",
      "\n",
      "Epoch 00124: loss improved from 1.80634 to 1.79302, saving model to nextword1.h5\n",
      "Epoch 125/150\n",
      "67/67 [==============================] - 7s 101ms/step - loss: 1.6200\n",
      "\n",
      "Epoch 00125: loss improved from 1.79302 to 1.73645, saving model to nextword1.h5\n",
      "Epoch 126/150\n",
      "67/67 [==============================] - 7s 102ms/step - loss: 1.5848\n",
      "\n",
      "Epoch 00126: loss improved from 1.73645 to 1.71593, saving model to nextword1.h5\n",
      "Epoch 127/150\n",
      "67/67 [==============================] - 7s 102ms/step - loss: 1.5407\n",
      "\n",
      "Epoch 00127: loss improved from 1.71593 to 1.69919, saving model to nextword1.h5\n",
      "Epoch 128/150\n",
      "67/67 [==============================] - 7s 109ms/step - loss: 1.5672\n",
      "\n",
      "Epoch 00128: loss improved from 1.69919 to 1.65905, saving model to nextword1.h5\n",
      "Epoch 129/150\n",
      "67/67 [==============================] - 7s 109ms/step - loss: 1.5922\n",
      "\n",
      "Epoch 00129: loss did not improve from 1.65905\n",
      "Epoch 130/150\n",
      "67/67 [==============================] - 7s 98ms/step - loss: 1.5974\n",
      "\n",
      "Epoch 00130: loss did not improve from 1.65905\n",
      "Epoch 131/150\n",
      "67/67 [==============================] - 7s 99ms/step - loss: 1.6177\n",
      "\n",
      "Epoch 00131: loss did not improve from 1.65905\n",
      "\n",
      "Epoch 00131: ReduceLROnPlateau reducing learning rate to 0.00020000000949949026.\n",
      "Epoch 132/150\n",
      "67/67 [==============================] - 7s 101ms/step - loss: 1.3576\n",
      "\n",
      "Epoch 00132: loss improved from 1.65905 to 1.38582, saving model to nextword1.h5\n",
      "Epoch 133/150\n",
      "67/67 [==============================] - 7s 102ms/step - loss: 1.2487\n",
      "\n",
      "Epoch 00133: loss improved from 1.38582 to 1.26955, saving model to nextword1.h5\n",
      "Epoch 134/150\n",
      "67/67 [==============================] - 7s 101ms/step - loss: 1.2153\n",
      "\n",
      "Epoch 00134: loss improved from 1.26955 to 1.23137, saving model to nextword1.h5\n",
      "Epoch 135/150\n",
      "67/67 [==============================] - 7s 101ms/step - loss: 1.1687\n",
      "\n",
      "Epoch 00135: loss improved from 1.23137 to 1.20529, saving model to nextword1.h5\n",
      "Epoch 136/150\n",
      "67/67 [==============================] - 7s 102ms/step - loss: 1.1676\n",
      "\n",
      "Epoch 00136: loss improved from 1.20529 to 1.19105, saving model to nextword1.h5\n",
      "Epoch 137/150\n",
      "67/67 [==============================] - 7s 102ms/step - loss: 1.1755\n",
      "\n",
      "Epoch 00137: loss improved from 1.19105 to 1.18171, saving model to nextword1.h5\n",
      "Epoch 138/150\n",
      "67/67 [==============================] - 7s 102ms/step - loss: 1.0925\n",
      "\n",
      "Epoch 00138: loss improved from 1.18171 to 1.17140, saving model to nextword1.h5\n",
      "Epoch 139/150\n",
      "67/67 [==============================] - 7s 102ms/step - loss: 1.1478\n",
      "\n",
      "Epoch 00139: loss improved from 1.17140 to 1.16540, saving model to nextword1.h5\n",
      "Epoch 140/150\n",
      "67/67 [==============================] - 7s 102ms/step - loss: 1.1272\n",
      "\n",
      "Epoch 00140: loss improved from 1.16540 to 1.15651, saving model to nextword1.h5\n",
      "Epoch 141/150\n",
      "67/67 [==============================] - 7s 101ms/step - loss: 1.1119\n",
      "\n",
      "Epoch 00141: loss improved from 1.15651 to 1.15298, saving model to nextword1.h5\n",
      "Epoch 142/150\n",
      "67/67 [==============================] - 7s 101ms/step - loss: 1.0987\n",
      "\n",
      "Epoch 00142: loss improved from 1.15298 to 1.14759, saving model to nextword1.h5\n",
      "Epoch 143/150\n",
      "67/67 [==============================] - 7s 103ms/step - loss: 1.0929\n",
      "\n",
      "Epoch 00143: loss improved from 1.14759 to 1.14171, saving model to nextword1.h5\n",
      "Epoch 144/150\n",
      "67/67 [==============================] - 7s 101ms/step - loss: 1.1319\n",
      "\n",
      "Epoch 00144: loss improved from 1.14171 to 1.13768, saving model to nextword1.h5\n",
      "Epoch 145/150\n",
      "67/67 [==============================] - 7s 102ms/step - loss: 1.1303\n",
      "\n",
      "Epoch 00145: loss improved from 1.13768 to 1.13417, saving model to nextword1.h5\n",
      "Epoch 146/150\n",
      "67/67 [==============================] - 7s 102ms/step - loss: 1.1067\n",
      "\n",
      "Epoch 00146: loss improved from 1.13417 to 1.13064, saving model to nextword1.h5\n",
      "Epoch 147/150\n",
      "67/67 [==============================] - 7s 102ms/step - loss: 1.1055\n",
      "\n",
      "Epoch 00147: loss improved from 1.13064 to 1.12615, saving model to nextword1.h5\n",
      "Epoch 148/150\n",
      "67/67 [==============================] - 7s 102ms/step - loss: 1.0624\n",
      "\n",
      "Epoch 00148: loss improved from 1.12615 to 1.12496, saving model to nextword1.h5\n",
      "Epoch 149/150\n",
      "67/67 [==============================] - 7s 102ms/step - loss: 1.1103\n",
      "\n",
      "Epoch 00149: loss improved from 1.12496 to 1.11983, saving model to nextword1.h5\n",
      "Epoch 150/150\n",
      "67/67 [==============================] - 7s 102ms/step - loss: 1.0935\n",
      "\n",
      "Epoch 00150: loss did not improve from 1.11983\n"
     ]
    },
    {
     "data": {
      "text/plain": [
       "<tensorflow.python.keras.callbacks.History at 0x1b1090096d0>"
      ]
     },
     "execution_count": 19,
     "metadata": {},
     "output_type": "execute_result"
    }
   ],
   "source": [
    "model.fit(X, y, epochs=150, batch_size=64, callbacks=[checkpoint, reduce, tensorboard_Visualization])"
   ]
  },
  {
   "cell_type": "markdown",
   "metadata": {},
   "source": [
    "### Graph:"
   ]
  },
  {
   "cell_type": "code",
   "execution_count": null,
   "metadata": {},
   "outputs": [],
   "source": [
    "# https://stackoverflow.com/questions/26649716/how-to-show-pil-image-in-ipython-notebook\n",
    "# tensorboard --logdir=\"./logsnextword1\"\n",
    "# http://DESKTOP-U3TSCVT:6006/\n",
    "\n",
    "# from IPython.display import Image \n",
    "# pil_img = Image(filename='graph1.png')\n",
    "# display(pil_img)"
   ]
  },
  {
   "cell_type": "code",
   "execution_count": null,
   "metadata": {},
   "outputs": [],
   "source": [
    "# import pandas as pd\n",
    "# import matplotlib.pyplot as plt\n",
    "\n",
    "# pd.DataFrame(X, y).plot(figsize=(8, 5))\n",
    "# plt.grid(True)\n",
    "# plt.gca().set_ylim(0, 1) \n",
    "# plt.show()"
   ]
  },
  {
   "cell_type": "markdown",
   "metadata": {},
   "source": [
    "## Observation:\n",
    "### We are able to develop a decent next word prediction model and are able to get a declining loss and an overall decent performance."
   ]
  }
 ],
 "metadata": {
  "kernelspec": {
   "display_name": "Python 3",
   "language": "python",
   "name": "python3"
  },
  "language_info": {
   "codemirror_mode": {
    "name": "ipython",
    "version": 3
   },
   "file_extension": ".py",
   "mimetype": "text/x-python",
   "name": "python",
   "nbconvert_exporter": "python",
   "pygments_lexer": "ipython3",
   "version": "3.8.5"
  }
 },
 "nbformat": 4,
 "nbformat_minor": 2
}
