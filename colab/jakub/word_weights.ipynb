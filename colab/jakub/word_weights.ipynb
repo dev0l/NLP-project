{
  "nbformat": 4,
  "nbformat_minor": 0,
  "metadata": {
    "colab": {
      "name": "word_weights.ipynb",
      "provenance": []
    },
    "kernelspec": {
      "name": "python3",
      "display_name": "Python 3"
    },
    "language_info": {
      "name": "python"
    }
  },
  "cells": [
    {
      "cell_type": "code",
      "metadata": {
        "id": "8qTVfH27hSGj"
      },
      "source": [
        "import pandas as pd"
      ],
      "execution_count": 4,
      "outputs": []
    },
    {
      "cell_type": "code",
      "metadata": {
        "id": "7KfCCn8UztFf"
      },
      "source": [
        "df = pd.read_csv(\"data_words.csv\")"
      ],
      "execution_count": 5,
      "outputs": []
    },
    {
      "cell_type": "code",
      "metadata": {
        "colab": {
          "base_uri": "https://localhost:8080/"
        },
        "id": "J9BN-1bs0FYz",
        "outputId": "0c233c09-9779-4863-f9a9-aa0737df367d"
      },
      "source": [
        "print(df.head())"
      ],
      "execution_count": 6,
      "outputs": [
        {
          "output_type": "stream",
          "text": [
            "  Unnamed: 0         0         1  ...        97        98        99\n",
            "0       said  0.217270  0.372669  ...  0.055573  0.239833 -0.197190\n",
            "1      alice -0.316810 -0.069882  ... -0.003012 -0.083684  0.249538\n",
            "2     little  0.100712 -0.338961  ... -0.058691  0.095181  0.090177\n",
            "3        one  0.079794  0.107165  ... -0.001358  0.097318 -0.035290\n",
            "4      would -0.104630  0.068010  ...  0.034869 -0.194309 -0.007611\n",
            "\n",
            "[5 rows x 101 columns]\n"
          ],
          "name": "stdout"
        }
      ]
    },
    {
      "cell_type": "code",
      "metadata": {
        "colab": {
          "base_uri": "https://localhost:8080/"
        },
        "id": "9z9PwfEu0Hzj",
        "outputId": "7e3b7c3c-66d9-4479-eb0c-28fb5f58dc65"
      },
      "source": [
        "print(df.tail())"
      ],
      "execution_count": 7,
      "outputs": [
        {
          "output_type": "stream",
          "text": [
            "       Unnamed: 0         0         1  ...        97        98        99\n",
            "2373       gather  0.021707  0.033097  ... -0.004570 -0.030144 -0.034271\n",
            "2374      sorrows  0.002284  0.050553  ... -0.012357  0.041057 -0.006754\n",
            "2375         joys -0.063550 -0.015841  ...  0.043570  0.049140  0.005178\n",
            "2376  remembering -0.035876 -0.047609  ... -0.022359 -0.026838 -0.038982\n",
            "2377        happy  0.011898  0.020201  ... -0.036700  0.049409  0.015631\n",
            "\n",
            "[5 rows x 101 columns]\n"
          ],
          "name": "stdout"
        }
      ]
    },
    {
      "cell_type": "code",
      "metadata": {
        "id": "s1UitxTz0Q3m"
      },
      "source": [
        "from sklearn.metrics.pairwise import euclidean_distances"
      ],
      "execution_count": 8,
      "outputs": []
    },
    {
      "cell_type": "code",
      "metadata": {
        "id": "7xXEGVnL0n3J"
      },
      "source": [
        "weights = df.iloc[:, 1:].values"
      ],
      "execution_count": 10,
      "outputs": []
    },
    {
      "cell_type": "code",
      "metadata": {
        "colab": {
          "base_uri": "https://localhost:8080/"
        },
        "id": "IO1ENzE01HSE",
        "outputId": "9873597f-4211-4459-f3ea-506a829e2ca8"
      },
      "source": [
        "print(weights)"
      ],
      "execution_count": 11,
      "outputs": [
        {
          "output_type": "stream",
          "text": [
            "[[ 0.21726957  0.37266868  0.09966278 ...  0.05557286  0.23983261\n",
            "  -0.19718964]\n",
            " [-0.31681028 -0.06988211 -0.36550948 ... -0.00301245 -0.08368416\n",
            "   0.24953766]\n",
            " [ 0.10071195 -0.33896133 -0.24735986 ... -0.05869126  0.09518102\n",
            "   0.09017685]\n",
            " ...\n",
            " [-0.06355009 -0.01584095 -0.00512199 ...  0.04356993  0.0491396\n",
            "   0.00517817]\n",
            " [-0.0358755  -0.04760873 -0.02344298 ... -0.02235934 -0.02683824\n",
            "  -0.03898219]\n",
            " [ 0.01189772  0.02020119 -0.04856194 ... -0.03669959  0.04940937\n",
            "   0.01563146]]\n"
          ],
          "name": "stdout"
        }
      ]
    },
    {
      "cell_type": "code",
      "metadata": {
        "id": "y7csxKsi1Ku-"
      },
      "source": [
        "id2word = {}"
      ],
      "execution_count": 12,
      "outputs": []
    },
    {
      "cell_type": "code",
      "metadata": {
        "colab": {
          "base_uri": "https://localhost:8080/"
        },
        "id": "Nr34b62l12mV",
        "outputId": "7fbd3174-88b5-4d36-f9a1-c540d240fb02"
      },
      "source": [
        "print(type(id2word))"
      ],
      "execution_count": 13,
      "outputs": [
        {
          "output_type": "stream",
          "text": [
            "<class 'dict'>\n"
          ],
          "name": "stdout"
        }
      ]
    },
    {
      "cell_type": "code",
      "metadata": {
        "id": "KzJ0EC1i14ya"
      },
      "source": [
        "words = df.iloc[:, 0].values"
      ],
      "execution_count": 14,
      "outputs": []
    },
    {
      "cell_type": "code",
      "metadata": {
        "colab": {
          "base_uri": "https://localhost:8080/"
        },
        "id": "cEFgq57s2FcQ",
        "outputId": "f05da296-bc85-432f-aa29-02e671635eed"
      },
      "source": [
        "print(words)"
      ],
      "execution_count": 15,
      "outputs": [
        {
          "output_type": "stream",
          "text": [
            "['said' 'alice' 'little' ... 'joys' 'remembering' 'happy']\n"
          ],
          "name": "stdout"
        }
      ]
    },
    {
      "cell_type": "code",
      "metadata": {
        "id": "LoEKvWI22G9r"
      },
      "source": [
        "for i in range (1, len(words)):\n",
        "  "
      ],
      "execution_count": null,
      "outputs": []
    }
  ]
}