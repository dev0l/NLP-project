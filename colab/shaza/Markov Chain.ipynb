{
 "cells": [
  {
   "cell_type": "code",
   "execution_count": 1,
   "metadata": {},
   "outputs": [
    {
     "name": "stdout",
     "output_type": "stream",
     "text": [
      "Requirement already satisfied: keras in c:\\users\\shazaawadelkarimabda\\anaconda3\\lib\\site-packages (1.2.2)\n",
      "Requirement already satisfied: six in c:\\users\\shazaawadelkarimabda\\anaconda3\\lib\\site-packages (from keras) (1.15.0)\n",
      "Requirement already satisfied: theano in c:\\users\\shazaawadelkarimabda\\anaconda3\\lib\\site-packages (from keras) (1.0.5)\n",
      "Requirement already satisfied: pyyaml in c:\\users\\shazaawadelkarimabda\\anaconda3\\lib\\site-packages (from keras) (5.3.1)\n",
      "Requirement already satisfied: scipy>=0.14 in c:\\users\\shazaawadelkarimabda\\anaconda3\\lib\\site-packages (from theano->keras) (1.5.2)\n",
      "Requirement already satisfied: numpy>=1.9.1 in c:\\users\\shazaawadelkarimabda\\anaconda3\\lib\\site-packages (from theano->keras) (1.19.2)\n"
     ]
    },
    {
     "name": "stderr",
     "output_type": "stream",
     "text": [
      "Using TensorFlow backend.\n"
     ]
    }
   ],
   "source": [
    "import string\n",
    "import numpy as np\n",
    "import pandas as pd\n",
    "!pip install keras\n",
    "from keras.preprocessing.text import Tokenizer"
   ]
  },
  {
   "cell_type": "code",
   "execution_count": 2,
   "metadata": {},
   "outputs": [
    {
     "data": {
      "text/plain": [
       "'CoronaVirus.txt'"
      ]
     },
     "execution_count": 2,
     "metadata": {},
     "output_type": "execute_result"
    }
   ],
   "source": [
    "dataset=\"CoronaVirus.txt\"\n",
    "dataset"
   ]
  },
  {
   "cell_type": "code",
   "execution_count": 3,
   "metadata": {},
   "outputs": [
    {
     "name": "stdout",
     "output_type": "stream",
     "text": [
      "corpus length: 949\n"
     ]
    }
   ],
   "source": [
    "text=open(dataset).read().lower()\n",
    "#dataset=dataset.lower()\n",
    "print(\"corpus length:\", len(text))"
   ]
  },
  {
   "cell_type": "code",
   "execution_count": 4,
   "metadata": {},
   "outputs": [],
   "source": [
    "def remove_punctuation(sentence):\n",
    "    return sentence.translate(str.maketrans('','', string.punctuation))"
   ]
  },
  {
   "cell_type": "code",
   "execution_count": 5,
   "metadata": {},
   "outputs": [],
   "source": [
    "\n",
    "def add2dict(dictionary, key, value):\n",
    "    if key not in dictionary:\n",
    "        dictionary[key] = []\n",
    "    dictionary[key].append(value)\n",
    "   "
   ]
  },
  {
   "cell_type": "code",
   "execution_count": 6,
   "metadata": {},
   "outputs": [],
   "source": [
    "def list2probabilitydict(given_list):\n",
    "    probability_dict = {}\n",
    "    given_list_length = len(given_list)\n",
    "    for item in given_list:\n",
    "        probability_dict[item] = probability_dict.get(item, 0) + 1\n",
    "    for key, value in probability_dict.items():\n",
    "        probability_dict[key] = value / given_list_length\n",
    "    return probability_dict\n"
   ]
  },
  {
   "cell_type": "code",
   "execution_count": 7,
   "metadata": {},
   "outputs": [],
   "source": [
    "first_word = {}\n",
    "second_word = {}\n",
    "transitions = {}\n"
   ]
  },
  {
   "cell_type": "code",
   "execution_count": 15,
   "metadata": {},
   "outputs": [
    {
     "name": "stdout",
     "output_type": "stream",
     "text": [
      "{'coronavirus': 0.25, 'most': 0.25, 'the': 0.5}\n",
      "{'coronavirus': {'disease': 1.0}, 'most': {'people': 1.0}, 'the': {'best': 0.5, 'covid19': 0.5}}\n"
     ]
    }
   ],
   "source": [
    "print(first_word)\n",
    "print(second_word)"
   ]
  },
  {
   "cell_type": "code",
   "execution_count": 16,
   "metadata": {},
   "outputs": [
    {
     "name": "stdout",
     "output_type": "stream",
     "text": [
      "{('coronavirus', 'disease'): {'covid19': 1.0}, ('disease', 'covid19'): {'is': 1.0}, ('covid19', 'is'): {'an': 1.0}, ('is', 'an'): {'infectious': 1.0}, ('an', 'infectious'): {'disease': 1.0}, ('infectious', 'disease'): {'caused': 1.0}, ('disease', 'caused'): {'by': 1.0}, ('caused', 'by'): {'a': 1.0}, ('by', 'a'): {'newly': 1.0}, ('a', 'newly'): {'discovered': 1.0}, ('discovered', 'coronavirus'): {'END': 1.0}, ('newly', 'discovered'): {'coronavirus': 1.0}, ('most', 'people'): {'infected': 1.0}, ('people', 'infected'): {'with': 1.0}, ('infected', 'with'): {'the': 1.0}, ('with', 'the'): {'covid19': 1.0}, ('the', 'covid19'): {'virus': 1.0}, ('covid19', 'virus'): {'will': 0.3333333333333333, 'the': 0.3333333333333333, 'spreads': 0.3333333333333333}, ('virus', 'will'): {'experience': 1.0}, ('will', 'experience'): {'mild': 1.0}, ('experience', 'mild'): {'to': 1.0}, ('mild', 'to'): {'moderate': 1.0}, ('to', 'moderate'): {'respiratory': 1.0}, ('moderate', 'respiratory'): {'illness': 1.0}, ('respiratory', 'illness'): {'and': 1.0}, ('illness', 'and'): {'recover': 1.0}, ('and', 'recover'): {'without': 1.0}, ('recover', 'without'): {'requiring': 1.0}, ('without', 'requiring'): {'special': 1.0}, ('requiring', 'special'): {'treatment': 1.0}, ('special', 'treatment'): {'older': 1.0}, ('treatment', 'older'): {'people': 1.0}, ('older', 'people'): {'and': 1.0}, ('people', 'and'): {'those': 1.0}, ('and', 'those'): {'with': 1.0}, ('those', 'with'): {'underlying': 1.0}, ('with', 'underlying'): {'medical': 1.0}, ('underlying', 'medical'): {'problems': 1.0}, ('medical', 'problems'): {'like': 1.0}, ('problems', 'like'): {'cardiovascular': 1.0}, ('like', 'cardiovascular'): {'disease': 1.0}, ('cardiovascular', 'disease'): {'diabetes': 1.0}, ('disease', 'diabetes'): {'chronic': 1.0}, ('diabetes', 'chronic'): {'respiratory': 1.0}, ('chronic', 'respiratory'): {'disease': 1.0}, ('respiratory', 'disease'): {'and': 1.0}, ('disease', 'and'): {'cancer': 1.0}, ('and', 'cancer'): {'are': 1.0}, ('cancer', 'are'): {'more': 1.0}, ('are', 'more'): {'likely': 1.0}, ('more', 'likely'): {'to': 1.0}, ('likely', 'to'): {'develop': 1.0}, ('to', 'develop'): {'serious': 1.0}, ('serious', 'illness'): {'END': 1.0}, ('develop', 'serious'): {'illness': 1.0}, ('the', 'best'): {'way': 1.0}, ('best', 'way'): {'to': 1.0}, ('way', 'to'): {'prevent': 1.0}, ('to', 'prevent'): {'and': 1.0}, ('prevent', 'and'): {'slow': 1.0}, ('and', 'slow'): {'down': 1.0}, ('slow', 'down'): {'transmission': 1.0}, ('down', 'transmission'): {'is': 1.0}, ('transmission', 'is'): {'to': 1.0}, ('is', 'to'): {'be': 1.0}, ('to', 'be'): {'well': 1.0}, ('be', 'well'): {'informed': 1.0}, ('well', 'informed'): {'about': 1.0}, ('informed', 'about'): {'the': 1.0}, ('about', 'the'): {'covid19': 1.0}, ('virus', 'the'): {'disease': 1.0}, ('the', 'disease'): {'it': 1.0}, ('disease', 'it'): {'causes': 1.0}, ('it', 'causes'): {'and': 1.0}, ('causes', 'and'): {'how': 1.0}, ('and', 'how'): {'it': 1.0}, ('how', 'it'): {'spreads': 1.0}, ('it', 'spreads'): {'protect': 1.0}, ('spreads', 'protect'): {'yourself': 1.0}, ('protect', 'yourself'): {'and': 1.0}, ('yourself', 'and'): {'others': 1.0}, ('and', 'others'): {'from': 1.0}, ('others', 'from'): {'infection': 1.0}, ('from', 'infection'): {'by': 1.0}, ('infection', 'by'): {'washing': 1.0}, ('by', 'washing'): {'your': 1.0}, ('washing', 'your'): {'hands': 1.0}, ('your', 'hands'): {'or': 1.0}, ('hands', 'or'): {'using': 1.0}, ('or', 'using'): {'an': 1.0}, ('using', 'an'): {'alcohol': 1.0}, ('an', 'alcohol'): {'based': 1.0}, ('alcohol', 'based'): {'rub': 1.0}, ('based', 'rub'): {'frequently': 1.0}, ('rub', 'frequently'): {'and': 1.0}, ('frequently', 'and'): {'not': 1.0}, ('and', 'not'): {'touching': 1.0}, ('not', 'touching'): {'your': 1.0}, ('your', 'face'): {'END': 1.0}, ('touching', 'your'): {'face': 1.0}, ('virus', 'spreads'): {'primarily': 1.0}, ('spreads', 'primarily'): {'through': 1.0}, ('primarily', 'through'): {'droplets': 1.0}, ('through', 'droplets'): {'of': 1.0}, ('droplets', 'of'): {'saliva': 1.0}, ('of', 'saliva'): {'or': 1.0}, ('saliva', 'or'): {'discharge': 1.0}, ('or', 'discharge'): {'from': 1.0}, ('discharge', 'from'): {'the': 1.0}, ('from', 'the'): {'nose': 1.0}, ('the', 'nose'): {'when': 1.0}, ('nose', 'when'): {'an': 1.0}, ('when', 'an'): {'infected': 1.0}, ('an', 'infected'): {'person': 1.0}, ('infected', 'person'): {'coughs': 1.0}, ('person', 'coughs'): {'or': 1.0}, ('coughs', 'or'): {'sneezes': 1.0}, ('or', 'sneezes'): {'so': 1.0}, ('sneezes', 'so'): {'it’s': 1.0}, ('so', 'it’s'): {'important': 1.0}, ('it’s', 'important'): {'that': 1.0}, ('important', 'that'): {'you': 1.0}, ('that', 'you'): {'also': 1.0}, ('you', 'also'): {'practice': 1.0}, ('also', 'practice'): {'respiratory': 1.0}, ('practice', 'respiratory'): {'etiquette': 1.0}, ('respiratory', 'etiquette'): {'for': 1.0}, ('etiquette', 'for'): {'example': 1.0}, ('for', 'example'): {'by': 1.0}, ('example', 'by'): {'coughing': 1.0}, ('by', 'coughing'): {'into': 1.0}, ('coughing', 'into'): {'a': 1.0}, ('into', 'a'): {'flexed': 1.0}, ('flexed', 'elbow'): {'END': 1.0}, ('a', 'flexed'): {'elbow': 1.0}}\n"
     ]
    }
   ],
   "source": [
    "# the probabilities of moving from one state to another in a dynamic system.\n",
    "print(transitions)"
   ]
  },
  {
   "cell_type": "code",
   "execution_count": 8,
   "metadata": {},
   "outputs": [],
   "source": [
    "# Trains a Markov model based on the data in dataset\n",
    "def train_markov_model():\n",
    "    for line in open(dataset):\n",
    "        tokens = remove_punctuation(line.rstrip().lower()).split()\n",
    "        tokens_length = len(tokens)\n",
    "        for i in range(tokens_length):\n",
    "            token = tokens[i]\n",
    "            if i == 0:\n",
    "                first_word[token] = first_word.get(token, 0) + 1\n",
    "            else:\n",
    "                prev_token = tokens[i - 1]\n",
    "                if i == tokens_length - 1:\n",
    "                    add2dict(transitions, (prev_token, token), 'END')\n",
    "                if i == 1:\n",
    "                    add2dict(second_word, prev_token, token)\n",
    "                else:\n",
    "                    prev_prev_token = tokens[i - 2]\n",
    "                    add2dict(transitions, (prev_prev_token, prev_token), token)\n",
    "    \n",
    "    # Normalize the distributions\n",
    "    first_word_total = sum(first_word.values())\n",
    "    for key, value in first_word.items():\n",
    "        first_word[key] = value / first_word_total\n",
    "        \n",
    "    for prev_word, next_word_list in second_word.items():\n",
    "        second_word[prev_word] = list2probabilitydict(next_word_list)\n",
    "        \n",
    "    for word_pair, next_word_list in transitions.items():\n",
    "        transitions[word_pair] = list2probabilitydict(next_word_list)\n",
    "    \n",
    "    print('Training successful.')\n",
    "   \n",
    "    \n",
    "    "
   ]
  },
  {
   "cell_type": "code",
   "execution_count": 9,
   "metadata": {},
   "outputs": [
    {
     "name": "stdout",
     "output_type": "stream",
     "text": [
      "Training successful.\n"
     ]
    }
   ],
   "source": [
    "train_markov_model()"
   ]
  },
  {
   "cell_type": "code",
   "execution_count": 10,
   "metadata": {},
   "outputs": [],
   "source": [
    "def sample_word(dictionary):\n",
    "    p0 = np.random.random()\n",
    "    cumulative = 0\n",
    "    for key, value in dictionary.items():\n",
    "        cumulative += value\n",
    "        if p0 < cumulative:\n",
    "            return key\n",
    "    assert(False)"
   ]
  },
  {
   "cell_type": "code",
   "execution_count": 11,
   "metadata": {},
   "outputs": [],
   "source": [
    "number_of_sentences = 10"
   ]
  },
  {
   "cell_type": "code",
   "execution_count": 12,
   "metadata": {},
   "outputs": [],
   "source": [
    "# Function to generate sample text\n",
    "def generate():\n",
    "    for i in range(number_of_sentences):\n",
    "        sentence = []\n",
    "        # Initial word\n",
    "        word0 = sample_word(first_word)\n",
    "        sentence.append(word0)\n",
    "        # Second word\n",
    "        word1 = sample_word(second_word[word0])\n",
    "        sentence.append(word1)\n",
    "        # Subsequent words untill END\n",
    "        while True:\n",
    "            word2 = sample_word(transitions[(word0, word1)])\n",
    "            if word2 == 'END':\n",
    "                break\n",
    "            sentence.append(word2)\n",
    "            word0 = word1\n",
    "            word1 = word2\n",
    "        print(' '.join(sentence))\n",
    "       # test_word = sentence[2]\n",
    "       # print(word2)\n",
    "\n",
    "#print(test_word)"
   ]
  },
  {
   "cell_type": "code",
   "execution_count": 13,
   "metadata": {},
   "outputs": [
    {
     "name": "stdout",
     "output_type": "stream",
     "text": [
      "coronavirus disease covid19 is an infectious disease caused by a newly discovered coronavirus\n",
      "most people infected with the covid19 virus spreads primarily through droplets of saliva or discharge from the nose when an infected person coughs or sneezes so it’s important that you also practice respiratory etiquette for example by coughing into a flexed elbow\n",
      "the covid19 virus will experience mild to moderate respiratory illness and recover without requiring special treatment older people and those with underlying medical problems like cardiovascular disease diabetes chronic respiratory disease and cancer are more likely to develop serious illness\n",
      "coronavirus disease covid19 is an infectious disease caused by a newly discovered coronavirus\n",
      "coronavirus disease covid19 is an infectious disease caused by a newly discovered coronavirus\n",
      "the best way to prevent and slow down transmission is to be well informed about the covid19 virus will experience mild to moderate respiratory illness and recover without requiring special treatment older people and those with underlying medical problems like cardiovascular disease diabetes chronic respiratory disease and cancer are more likely to develop serious illness\n",
      "the covid19 virus will experience mild to moderate respiratory illness and recover without requiring special treatment older people and those with underlying medical problems like cardiovascular disease diabetes chronic respiratory disease and cancer are more likely to develop serious illness\n",
      "most people infected with the covid19 virus spreads primarily through droplets of saliva or discharge from the nose when an infected person coughs or sneezes so it’s important that you also practice respiratory etiquette for example by coughing into a flexed elbow\n",
      "coronavirus disease covid19 is an infectious disease caused by a newly discovered coronavirus\n",
      "most people infected with the covid19 virus the disease it causes and how it spreads protect yourself and others from infection by washing your hands or using an alcohol based rub frequently and not touching your face\n"
     ]
    }
   ],
   "source": [
    "generate()"
   ]
  },
  {
   "cell_type": "code",
   "execution_count": null,
   "metadata": {},
   "outputs": [],
   "source": [
    "\n",
    "    "
   ]
  },
  {
   "cell_type": "code",
   "execution_count": null,
   "metadata": {},
   "outputs": [],
   "source": []
  },
  {
   "cell_type": "code",
   "execution_count": null,
   "metadata": {},
   "outputs": [],
   "source": []
  },
  {
   "cell_type": "code",
   "execution_count": null,
   "metadata": {},
   "outputs": [],
   "source": []
  }
 ],
 "metadata": {
  "kernelspec": {
   "display_name": "Python 3",
   "language": "python",
   "name": "python3"
  },
  "language_info": {
   "codemirror_mode": {
    "name": "ipython",
    "version": 3
   },
   "file_extension": ".py",
   "mimetype": "text/x-python",
   "name": "python",
   "nbconvert_exporter": "python",
   "pygments_lexer": "ipython3",
   "version": "3.8.5"
  }
 },
 "nbformat": 4,
 "nbformat_minor": 4
}
