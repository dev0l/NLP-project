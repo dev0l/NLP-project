{
 "cells": [
  {
   "cell_type": "code",
   "execution_count": 11,
   "metadata": {
    "id": "8qTVfH27hSGj"
   },
   "outputs": [
    {
     "name": "stdout",
     "output_type": "stream",
     "text": [
      "Requirement already satisfied: sklearn in c:\\users\\mohamedbabikermohame\\appdata\\local\\programs\\python\\python39\\lib\\site-packages (0.0)\n",
      "Requirement already satisfied: scikit-learn in c:\\users\\mohamedbabikermohame\\appdata\\local\\programs\\python\\python39\\lib\\site-packages (from sklearn) (0.24.1)\n",
      "Requirement already satisfied: scipy>=0.19.1 in c:\\users\\mohamedbabikermohame\\appdata\\local\\programs\\python\\python39\\lib\\site-packages (from scikit-learn->sklearn) (1.6.2)\n",
      "Requirement already satisfied: numpy>=1.13.3 in c:\\users\\mohamedbabikermohame\\appdata\\local\\programs\\python\\python39\\lib\\site-packages (from scikit-learn->sklearn) (1.19.5)\n",
      "Requirement already satisfied: threadpoolctl>=2.0.0 in c:\\users\\mohamedbabikermohame\\appdata\\local\\programs\\python\\python39\\lib\\site-packages (from scikit-learn->sklearn) (2.1.0)\n",
      "Requirement already satisfied: joblib>=0.11 in c:\\users\\mohamedbabikermohame\\appdata\\local\\programs\\python\\python39\\lib\\site-packages (from scikit-learn->sklearn) (1.0.1)\n"
     ]
    }
   ],
   "source": [
    "!pip install sklearn\n",
    "import pandas as pd\n",
    "from sklearn.metrics.pairwise import euclidean_distances"
   ]
  },
  {
   "cell_type": "code",
   "execution_count": 2,
   "metadata": {
    "id": "7KfCCn8UztFf"
   },
   "outputs": [],
   "source": [
    "df = pd.read_csv(\"data_words.csv\")"
   ]
  },
  {
   "cell_type": "code",
   "execution_count": 3,
   "metadata": {
    "colab": {
     "base_uri": "https://localhost:8080/"
    },
    "id": "J9BN-1bs0FYz",
    "outputId": "0c233c09-9779-4863-f9a9-aa0737df367d"
   },
   "outputs": [
    {
     "name": "stdout",
     "output_type": "stream",
     "text": [
      "  Unnamed: 0         0         1         2         3         4         5  \\\n",
      "0       said  0.217270  0.372669  0.099663 -0.004191 -0.071084 -0.063144   \n",
      "1      alice -0.316810 -0.069882 -0.365509  0.013681  0.204526 -0.002053   \n",
      "2     little  0.100712 -0.338961 -0.247360  0.024623  0.202253 -0.040592   \n",
      "3        one  0.079794  0.107165  0.070621 -0.032740  0.051992  0.136422   \n",
      "4      would -0.104630  0.068010 -0.225219  0.116939  0.088291 -0.048272   \n",
      "\n",
      "          6         7         8  ...        90        91        92        93  \\\n",
      "0 -0.109277 -0.126015 -0.049057  ...  0.123050  0.026689 -0.092411  0.386339   \n",
      "1 -0.150172  0.017994 -0.026940  ...  0.131225  0.102139 -0.054884 -0.032826   \n",
      "2 -0.088896  0.081050 -0.062815  ...  0.101943  0.041107  0.076632 -0.005202   \n",
      "3 -0.120671 -0.010460 -0.006675  ...  0.066493  0.093605  0.005657  0.292603   \n",
      "4 -0.078760 -0.089733  0.016242  ... -0.075159  0.052071 -0.068472  0.008072   \n",
      "\n",
      "         94        95        96        97        98        99  \n",
      "0 -0.029399 -0.026612 -0.181850  0.055573  0.239833 -0.197190  \n",
      "1  0.016014 -0.000889  0.041066 -0.003012 -0.083684  0.249538  \n",
      "2 -0.078783 -0.163973 -0.150423 -0.058691  0.095181  0.090177  \n",
      "3 -0.057287  0.077392  0.185103 -0.001358  0.097318 -0.035290  \n",
      "4  0.001199  0.070463 -0.050857  0.034869 -0.194309 -0.007611  \n",
      "\n",
      "[5 rows x 101 columns]\n"
     ]
    }
   ],
   "source": [
    "print(df.head())"
   ]
  },
  {
   "cell_type": "code",
   "execution_count": 4,
   "metadata": {
    "colab": {
     "base_uri": "https://localhost:8080/"
    },
    "id": "9z9PwfEu0Hzj",
    "outputId": "7e3b7c3c-66d9-4479-eb0c-28fb5f58dc65"
   },
   "outputs": [
    {
     "name": "stdout",
     "output_type": "stream",
     "text": [
      "       Unnamed: 0         0         1         2         3         4         5  \\\n",
      "2373       gather  0.021707  0.033097  0.024804  0.023806  0.045898 -0.050459   \n",
      "2374      sorrows  0.002284  0.050553 -0.006777 -0.015957  0.030452 -0.004100   \n",
      "2375         joys -0.063550 -0.015841 -0.005122  0.025097  0.062356  0.027567   \n",
      "2376  remembering -0.035876 -0.047609 -0.023443 -0.006323 -0.031480 -0.035610   \n",
      "2377        happy  0.011898  0.020201 -0.048562 -0.007338 -0.019675  0.006107   \n",
      "\n",
      "             6         7         8  ...        90        91        92  \\\n",
      "2373  0.011018 -0.017345 -0.028780  ... -0.004846  0.064549  0.019228   \n",
      "2374 -0.048813  0.032466  0.033035  ... -0.020653 -0.027694 -0.055519   \n",
      "2375 -0.016536 -0.002605 -0.056756  ...  0.053613  0.027388  0.036534   \n",
      "2376  0.025636  0.059292  0.004631  ...  0.032997  0.064288 -0.034541   \n",
      "2377  0.018595 -0.007823 -0.008041  ...  0.022764 -0.001980  0.012997   \n",
      "\n",
      "            93        94        95        96        97        98        99  \n",
      "2373 -0.045240  0.012065  0.010123  0.059999 -0.004570 -0.030144 -0.034271  \n",
      "2374  0.038209  0.031198  0.064733 -0.001627 -0.012357  0.041057 -0.006754  \n",
      "2375  0.014944  0.025049  0.001076  0.037103  0.043570  0.049140  0.005178  \n",
      "2376  0.006842 -0.027978 -0.025573  0.044672 -0.022359 -0.026838 -0.038982  \n",
      "2377  0.009826 -0.012430  0.014607 -0.013760 -0.036700  0.049409  0.015631  \n",
      "\n",
      "[5 rows x 101 columns]\n"
     ]
    }
   ],
   "source": [
    "print(df.tail())"
   ]
  },
  {
   "cell_type": "code",
   "execution_count": 12,
   "metadata": {
    "id": "s1UitxTz0Q3m"
   },
   "outputs": [],
   "source": [
    "from sklearn.metrics.pairwise import euclidean_distances"
   ]
  },
  {
   "cell_type": "code",
   "execution_count": null,
   "metadata": {
    "id": "7xXEGVnL0n3J"
   },
   "outputs": [],
   "source": [
    "weights = df.iloc[:, 1:].values"
   ]
  },
  {
   "cell_type": "code",
   "execution_count": null,
   "metadata": {
    "colab": {
     "base_uri": "https://localhost:8080/"
    },
    "id": "IO1ENzE01HSE",
    "outputId": "9873597f-4211-4459-f3ea-506a829e2ca8"
   },
   "outputs": [],
   "source": [
    "print(weights)"
   ]
  },
  {
   "cell_type": "code",
   "execution_count": null,
   "metadata": {
    "id": "y7csxKsi1Ku-"
   },
   "outputs": [],
   "source": [
    "id2word = {}"
   ]
  },
  {
   "cell_type": "code",
   "execution_count": null,
   "metadata": {
    "colab": {
     "base_uri": "https://localhost:8080/"
    },
    "id": "Nr34b62l12mV",
    "outputId": "7fbd3174-88b5-4d36-f9a1-c540d240fb02"
   },
   "outputs": [],
   "source": [
    "print(type(id2word))"
   ]
  },
  {
   "cell_type": "code",
   "execution_count": null,
   "metadata": {
    "id": "KzJ0EC1i14ya"
   },
   "outputs": [],
   "source": [
    "words = df.iloc[:, 0].values"
   ]
  },
  {
   "cell_type": "code",
   "execution_count": null,
   "metadata": {
    "colab": {
     "base_uri": "https://localhost:8080/"
    },
    "id": "cEFgq57s2FcQ",
    "outputId": "f05da296-bc85-432f-aa29-02e671635eed"
   },
   "outputs": [],
   "source": [
    "print(words)"
   ]
  },
  {
   "cell_type": "code",
   "execution_count": null,
   "metadata": {
    "id": "LoEKvWI22G9r"
   },
   "outputs": [],
   "source": [
    "for i in range (1, len(words)):\n",
    "  "
   ]
  }
 ],
 "metadata": {
  "colab": {
   "name": "word_weights.ipynb",
   "provenance": []
  },
  "kernelspec": {
   "display_name": "Python 3",
   "language": "python",
   "name": "python3"
  },
  "language_info": {
   "codemirror_mode": {
    "name": "ipython",
    "version": 3
   },
   "file_extension": ".py",
   "mimetype": "text/x-python",
   "name": "python",
   "nbconvert_exporter": "python",
   "pygments_lexer": "ipython3",
   "version": "3.9.2"
  }
 },
 "nbformat": 4,
 "nbformat_minor": 1
}
