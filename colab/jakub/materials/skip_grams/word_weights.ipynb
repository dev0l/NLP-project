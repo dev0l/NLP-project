{
  "nbformat": 4,
  "nbformat_minor": 0,
  "metadata": {
    "colab": {
      "name": "word_weights.ipynb",
      "provenance": [],
      "collapsed_sections": []
    },
    "kernelspec": {
      "name": "python3",
      "display_name": "Python 3"
    },
    "language_info": {
      "name": "python"
    }
  },
  "cells": [
    {
      "cell_type": "code",
      "metadata": {
        "id": "8qTVfH27hSGj"
      },
      "source": [
        "import pandas as pd"
      ],
      "execution_count": 4,
      "outputs": []
    },
    {
      "cell_type": "code",
      "metadata": {
        "id": "7KfCCn8UztFf"
      },
      "source": [
        "df = pd.read_csv(\"data_words.csv\")"
      ],
      "execution_count": 5,
      "outputs": []
    },
    {
      "cell_type": "code",
      "metadata": {
        "colab": {
          "base_uri": "https://localhost:8080/"
        },
        "id": "J9BN-1bs0FYz",
        "outputId": "0c233c09-9779-4863-f9a9-aa0737df367d"
      },
      "source": [
        "print(df.head())"
      ],
      "execution_count": 6,
      "outputs": [
        {
          "output_type": "stream",
          "text": [
            "  Unnamed: 0         0         1  ...        97        98        99\n",
            "0       said  0.217270  0.372669  ...  0.055573  0.239833 -0.197190\n",
            "1      alice -0.316810 -0.069882  ... -0.003012 -0.083684  0.249538\n",
            "2     little  0.100712 -0.338961  ... -0.058691  0.095181  0.090177\n",
            "3        one  0.079794  0.107165  ... -0.001358  0.097318 -0.035290\n",
            "4      would -0.104630  0.068010  ...  0.034869 -0.194309 -0.007611\n",
            "\n",
            "[5 rows x 101 columns]\n"
          ],
          "name": "stdout"
        }
      ]
    },
    {
      "cell_type": "code",
      "metadata": {
        "colab": {
          "base_uri": "https://localhost:8080/"
        },
        "id": "9z9PwfEu0Hzj",
        "outputId": "7e3b7c3c-66d9-4479-eb0c-28fb5f58dc65"
      },
      "source": [
        "print(df.tail())"
      ],
      "execution_count": 7,
      "outputs": [
        {
          "output_type": "stream",
          "text": [
            "       Unnamed: 0         0         1  ...        97        98        99\n",
            "2373       gather  0.021707  0.033097  ... -0.004570 -0.030144 -0.034271\n",
            "2374      sorrows  0.002284  0.050553  ... -0.012357  0.041057 -0.006754\n",
            "2375         joys -0.063550 -0.015841  ...  0.043570  0.049140  0.005178\n",
            "2376  remembering -0.035876 -0.047609  ... -0.022359 -0.026838 -0.038982\n",
            "2377        happy  0.011898  0.020201  ... -0.036700  0.049409  0.015631\n",
            "\n",
            "[5 rows x 101 columns]\n"
          ],
          "name": "stdout"
        }
      ]
    },
    {
      "cell_type": "code",
      "metadata": {
        "id": "7xXEGVnL0n3J"
      },
      "source": [
        "weights = df.iloc[:, 1:].values"
      ],
      "execution_count": 10,
      "outputs": []
    },
    {
      "cell_type": "code",
      "metadata": {
        "colab": {
          "base_uri": "https://localhost:8080/"
        },
        "id": "IO1ENzE01HSE",
        "outputId": "9873597f-4211-4459-f3ea-506a829e2ca8"
      },
      "source": [
        "print(weights)"
      ],
      "execution_count": 11,
      "outputs": [
        {
          "output_type": "stream",
          "text": [
            "[[ 0.21726957  0.37266868  0.09966278 ...  0.05557286  0.23983261\n",
            "  -0.19718964]\n",
            " [-0.31681028 -0.06988211 -0.36550948 ... -0.00301245 -0.08368416\n",
            "   0.24953766]\n",
            " [ 0.10071195 -0.33896133 -0.24735986 ... -0.05869126  0.09518102\n",
            "   0.09017685]\n",
            " ...\n",
            " [-0.06355009 -0.01584095 -0.00512199 ...  0.04356993  0.0491396\n",
            "   0.00517817]\n",
            " [-0.0358755  -0.04760873 -0.02344298 ... -0.02235934 -0.02683824\n",
            "  -0.03898219]\n",
            " [ 0.01189772  0.02020119 -0.04856194 ... -0.03669959  0.04940937\n",
            "   0.01563146]]\n"
          ],
          "name": "stdout"
        }
      ]
    },
    {
      "cell_type": "code",
      "metadata": {
        "id": "y7csxKsi1Ku-"
      },
      "source": [
        "id2word = {}"
      ],
      "execution_count": 12,
      "outputs": []
    },
    {
      "cell_type": "code",
      "metadata": {
        "colab": {
          "base_uri": "https://localhost:8080/"
        },
        "id": "Nr34b62l12mV",
        "outputId": "7fbd3174-88b5-4d36-f9a1-c540d240fb02"
      },
      "source": [
        "print(type(id2word))"
      ],
      "execution_count": 13,
      "outputs": [
        {
          "output_type": "stream",
          "text": [
            "<class 'dict'>\n"
          ],
          "name": "stdout"
        }
      ]
    },
    {
      "cell_type": "code",
      "metadata": {
        "id": "KzJ0EC1i14ya"
      },
      "source": [
        "words = df.iloc[:, 0].values"
      ],
      "execution_count": 14,
      "outputs": []
    },
    {
      "cell_type": "code",
      "metadata": {
        "colab": {
          "base_uri": "https://localhost:8080/"
        },
        "id": "cEFgq57s2FcQ",
        "outputId": "f05da296-bc85-432f-aa29-02e671635eed"
      },
      "source": [
        "print(words)"
      ],
      "execution_count": 15,
      "outputs": [
        {
          "output_type": "stream",
          "text": [
            "['said' 'alice' 'little' ... 'joys' 'remembering' 'happy']\n"
          ],
          "name": "stdout"
        }
      ]
    },
    {
      "cell_type": "code",
      "metadata": {
        "colab": {
          "base_uri": "https://localhost:8080/"
        },
        "id": "tHNw4WYeFCl2",
        "outputId": "543471da-00f7-42de-cff3-5ac7d53e9e80"
      },
      "source": [
        "print(len(words))"
      ],
      "execution_count": 16,
      "outputs": [
        {
          "output_type": "stream",
          "text": [
            "2378\n"
          ],
          "name": "stdout"
        }
      ]
    },
    {
      "cell_type": "code",
      "metadata": {
        "id": "LoEKvWI22G9r"
      },
      "source": [
        "for i in range (1, len(words)):\n",
        "  id2word[i] = words[i-1]\n"
      ],
      "execution_count": 17,
      "outputs": []
    },
    {
      "cell_type": "code",
      "metadata": {
        "colab": {
          "base_uri": "https://localhost:8080/"
        },
        "id": "flBOS0GDFKOp",
        "outputId": "de33f2bd-4a20-40b5-fe9b-086857a4f4be"
      },
      "source": [
        "print(id2word)"
      ],
      "execution_count": 18,
      "outputs": [
        {
          "output_type": "stream",
          "text": [
            "{1: 'said', 2: 'alice', 3: 'little', 4: 'one', 5: 'would', 6: 'know', 7: 'went', 8: 'like', 9: 'could', 10: 'time', 11: 'see', 12: 'queen', 13: 'thought', 14: 'turtle', 15: 'well', 16: 'king', 17: 'began', 18: 'mock', 19: 'quite', 20: 'way', 21: 'think', 22: 'much', 23: 'first', 24: 'hatter', 25: 'gryphon', 26: 'rabbit', 27: 'say', 28: 'go', 29: 'voice', 30: 'thing', 31: 'looked', 32: 'never', 33: 'head', 34: 'must', 35: 'got', 36: 'mouse', 37: 'get', 38: 'round', 39: 'come', 40: 'tone', 41: 'great', 42: 'came', 43: 'two', 44: 'oh', 45: 'back', 46: 'duchess', 47: 'dormouse', 48: 'cat', 49: 'march', 50: 'large', 51: 'last', 52: 'nothing', 53: 'long', 54: 'looking', 55: 'moment', 56: 'found', 57: 'put', 58: 'right', 59: 'hare', 60: 'white', 61: 'door', 62: 'made', 63: 'eyes', 64: 'next', 65: 'things', 66: 'heard', 67: 'look', 68: 'might', 69: 'tell', 70: 'three', 71: 'replied', 72: 'seemed', 73: 'going', 74: 'good', 75: 'without', 76: 'day', 77: 'dear', 78: 'make', 79: 'upon', 80: 'poor', 81: 'soon', 82: 'away', 83: 'course', 84: 'took', 85: 'rather', 86: 'felt', 87: 'half', 88: 'sure', 89: 'yet', 90: 'added', 91: 'another', 92: 'shall', 93: 'let', 94: 'hand', 95: 'ever', 96: 'find', 97: 'till', 98: 'jury', 99: 'caterpillar', 100: 'getting', 101: 'take', 102: 'anything', 103: 'however', 104: 'minute', 105: 'feet', 106: 'tried', 107: 'sort', 108: 'words', 109: 'tea', 110: 'use', 111: 'even', 112: 'house', 113: 'eat', 114: 'table', 115: 'wish', 116: 'cried', 117: 'enough', 118: 'something', 119: 'court', 120: 'end', 121: 'please', 122: 'spoke', 123: 'perhaps', 124: 'question', 125: 'sat', 126: 'old', 127: 'bill', 128: 'soup', 129: 'ran', 130: 'talking', 131: 'turned', 132: 'high', 133: 'garden', 134: 'curious', 135: 'hastily', 136: 'seen', 137: 'near', 138: 'idea', 139: 'air', 140: 'saying', 141: 'bit', 142: 'low', 143: 'side', 144: 'face', 145: 'gave', 146: 'beginning', 147: 'ought', 148: 'saw', 149: 'trying', 150: 'left', 151: 'anxiously', 152: 'speak', 153: 'everything', 154: 'knew', 155: 'suppose', 156: 'called', 157: 'arm', 158: 'baby', 159: 'close', 160: 'hear', 161: 'wonder', 162: 'still', 163: 'people', 164: 'remember', 165: 'behind', 166: 'indeed', 167: 'certainly', 168: 'game', 169: 'grow', 170: 'set', 171: 'kept', 172: 'change', 173: 'sea', 174: 'done', 175: 'always', 176: 'us', 177: 'dodo', 178: 'whole', 179: 'better', 180: 'silence', 181: 'gone', 182: 'may', 183: 'footman', 184: 'suddenly', 185: 'many', 186: 'among', 187: 'else', 188: 'cats', 189: 'every', 190: 'really', 191: 'finished', 192: 'size', 193: 'best', 194: 'life', 195: 'far', 196: 'deal', 197: 'queer', 198: 'try', 199: 'used', 200: 'hands', 201: 'talk', 202: 'turning', 203: 'beautiful', 204: 'cook', 205: 'majesty', 206: 'book', 207: 'whether', 208: 'hurried', 209: 'though', 210: 'glad', 211: 'ask', 212: 'dinah', 213: 'afraid', 214: 'begin', 215: 'hurry', 216: 'read', 217: 'minutes', 218: 'child', 219: 'hardly', 220: 'makes', 221: 'growing', 222: 'give', 223: 'gloves', 224: 'nearly', 225: 'asked', 226: 'room', 227: 'keep', 228: 'turn', 229: 'mad', 230: 'sitting', 231: 'conversation', 232: 'either', 233: 'yes', 234: 'word', 235: 'name', 236: 'sight', 237: 'walked', 238: 'glass', 239: 'small', 240: 'opened', 241: 'bottle', 242: 'children', 243: 'waited', 244: 'box', 245: 'foot', 246: 'pool', 247: 'fan', 248: 'offended', 249: 'birds', 250: 'creatures', 251: 'party', 252: 'rest', 253: 'mouth', 254: 'pigeon', 255: 'remark', 256: 'soldiers', 257: 'witness', 258: 'sister', 259: 'mind', 260: 'coming', 261: 'lessons', 262: 'answer', 263: 'matter', 264: 'hall', 265: 'key', 266: 'rate', 267: 'waiting', 268: 'tears', 269: 'thinking', 270: 'mine', 271: 'tail', 272: 'continued', 273: 'believe', 274: 'explain', 275: 'call', 276: 'trial', 277: 'angrily', 278: 'shook', 279: 'least', 280: 'reason', 281: 'together', 282: 'timidly', 283: 'repeated', 284: 'puzzled', 285: 'remarked', 286: 'pig', 287: 'butter', 288: 'knave', 289: 'feel', 290: 'making', 291: 'slowly', 292: 'happen', 293: 'noticed', 294: 'top', 295: 'four', 296: 'opportunity', 297: 'seem', 298: 'dry', 299: 'bright', 300: 'fact', 301: 'leave', 302: 'followed', 303: 'croquet', 304: 'lying', 305: 'work', 306: 'want', 307: 'ready', 308: 'help', 309: 'hard', 310: 'changed', 311: 'different', 312: 'william', 313: 'eagerly', 314: 'sit', 315: 'meaning', 316: 'running', 317: 'everybody', 318: 'exactly', 319: 'story', 320: 'window', 321: 'place', 322: 'appeared', 323: 'wood', 324: 'mushroom', 325: 'nose', 326: 'tree', 327: 'fish', 328: 'ground', 329: 'asleep', 330: 'hearts', 331: 'interrupted', 332: 'gardeners', 333: 'moral', 334: 'dance', 335: 'whiting', 336: 'slates', 337: 'adventures', 338: 'hot', 339: 'watch', 340: 'pocket', 341: 'world', 342: 'deep', 343: 'somebody', 344: 'fall', 345: 'listen', 346: 'distance', 347: 'heads', 348: 'fancy', 349: 'begun', 350: 'dream', 351: 'middle', 352: 'wondering', 353: 'golden', 354: 'open', 355: 'larger', 356: 'neck', 357: 'drink', 358: 'hold', 359: 'generally', 360: 'eye', 361: 'kind', 362: 'sir', 363: 'hair', 364: 'goes', 365: 'five', 366: 'repeat', 367: 'live', 368: 'play', 369: 'frightened', 370: 'chin', 371: 'history', 372: 'beg', 373: 'fetch', 374: 'important', 375: 'nobody', 376: 'stood', 377: 'grown', 378: 'trees', 379: 'puppy', 380: 'pepper', 381: 'cheshire', 382: 'pleased', 383: 'song', 384: 'mean', 385: 'bread', 386: 'hedgehog', 387: 'soo', 388: 'oop', 389: 'trouble', 390: 'fell', 391: 'nice', 392: 'written', 393: 'leaves', 394: 'jumped', 395: 'roof', 396: 'inches', 397: 'along', 398: 'marked', 399: 'almost', 400: 'ten', 401: 'surprised', 402: 'stop', 403: 'feeling', 404: 'times', 405: 'grin', 406: 'understand', 407: 'sentence', 408: 'trembling', 409: 'subject', 410: 'lory', 411: 'politely', 412: 'melancholy', 413: 'liked', 414: 'piece', 415: 'others', 416: 'executed', 417: 'broken', 418: 'chimney', 419: 'full', 420: 'write', 421: 'loud', 422: 'sharp', 423: 'shouted', 424: 'lizard', 425: 'guinea', 426: 'pigs', 427: 'arms', 428: 'father', 429: 'youth', 430: 'sleep', 431: 'silent', 432: 'sneezing', 433: 'told', 434: 'ear', 435: 'writing', 436: 'twinkle', 437: 'treacle', 438: 'executioner', 439: 'school', 440: 'e', 441: 'tarts', 442: 'evidence', 443: 'tired', 444: 'sleepy', 445: 'stupid', 446: 'across', 447: 'curiosity', 448: 'passed', 449: 'home', 450: 'walk', 451: 'new', 452: 'manage', 453: 'asking', 454: 'night', 455: 'sometimes', 456: 'walking', 457: 'ears', 458: 'sadly', 459: 'shut', 460: 'happened', 461: 'simple', 462: 'cut', 463: 'finger', 464: 'forgotten', 465: 'nervous', 466: 'altogether', 467: 'remembered', 468: 'happens', 469: 'english', 470: 'pair', 471: 'nonsense', 472: 'nine', 473: 'kid', 474: 'usual', 475: 'morning', 476: 'seven', 477: 'wrong', 478: 'sounded', 479: 'strange', 480: 'seems', 481: 'learn', 482: 'sudden', 483: 'water', 484: 'case', 485: 'number', 486: 'swam', 487: 'nearer', 488: 'speaking', 489: 'pardon', 490: 'shrill', 491: 'angry', 492: 'crowded', 493: 'race', 494: 'means', 495: 'notice', 496: 'dare', 497: 'confusion', 498: 'reply', 499: 'finish', 500: 'impatiently', 501: 'temper', 502: 'young', 503: 'direction', 504: 'interesting', 505: 'taking', 506: 'shriek', 507: 'drew', 508: 'sky', 509: 'instantly', 510: 'surprise', 511: 'height', 512: 'quietly', 513: 'hookah', 514: 'man', 515: 'stand', 516: 'often', 517: 'draw', 518: 'eggs', 519: 'meant', 520: 'dreadfully', 521: 'waving', 522: 'clock', 523: 'sing', 524: 'faces', 525: 'procession', 526: 'rule', 527: 'pack', 528: 'knee', 529: 'whispered', 530: 'flamingo', 531: 'tis', 532: 'lobster', 533: 'lobsters', 534: 'join', 535: 'evening', 536: 'unimportant', 537: 'twice', 538: 'pictures', 539: 'worth', 540: 'natural', 541: 'hole', 542: 'fear', 543: 'managed', 544: 'fallen', 545: 'earth', 546: 'several', 547: 'sound', 548: 'girl', 549: 'miss', 550: 'mice', 551: 'catch', 552: 'bats', 553: 'passage', 554: 'corner', 555: 'late', 556: 'except', 557: 'tiny', 558: 'second', 559: 'led', 560: 'paper', 561: 'taught', 562: 'ventured', 563: 'reach', 564: 'sharply', 565: 'severely', 566: 'person', 567: 'care', 568: 'shoes', 569: 'violently', 570: 'dropped', 571: 'age', 572: 'mabel', 573: 'besides', 574: 'twelve', 575: 'capital', 576: 'stay', 577: 'shrinking', 578: 'digging', 579: 'likely', 580: 'french', 581: 'fire', 582: 'paws', 583: 'says', 584: 'pale', 585: 'shore', 586: 'animals', 587: 'tale', 588: 'uncomfortable', 589: 'argument', 590: 'wanted', 591: 'frowning', 592: 'solemnly', 593: 'pointing', 594: 'confused', 595: 'thimble', 596: 'short', 597: 'bowed', 598: 'judge', 599: 'breath', 600: 'sighed', 601: 'particular', 602: 'moved', 603: 'since', 604: 'swim', 605: 'vanished', 606: 'run', 607: 'chance', 608: 'ordered', 609: 'outside', 610: 'yer', 611: 'honour', 612: 'sounds', 613: 'business', 614: 'hearing', 615: 'slate', 616: 'master', 617: 'thank', 618: 'doubt', 619: 'lay', 620: 'crowd', 621: 'held', 622: 'difficulty', 623: 'stick', 624: 'grass', 625: 'become', 626: 'perfectly', 627: 'none', 628: 'questions', 629: 'decidedly', 630: 'thoughtfully', 631: 'serpent', 632: 'indignantly', 633: 'taken', 634: 'lives', 635: 'otherwise', 636: 'dish', 637: 'days', 638: 'kitchen', 639: 'jumping', 640: 'carried', 641: 'hours', 642: 'busily', 643: 'beat', 644: 'verse', 645: 'creature', 646: 'grunted', 647: 'less', 648: 'fast', 649: 'crumbs', 650: 'shoulder', 651: 'sigh', 652: 'bottom', 653: 'begins', 654: 'rose', 655: 'consider', 656: 'arches', 657: 'players', 658: 'sobs', 659: 'porpoise', 660: 'mouths', 661: 'beau', 662: 'ootiful', 663: 'jurors', 664: 'verdict', 665: 'officers', 666: 'suppressed', 667: 'jurymen', 668: 'verses', 669: 'wonderland', 670: 'bank', 671: 'peeped', 672: 'reading', 673: 'considering', 674: 'dark', 675: 'sides', 676: 'filled', 677: 'past', 678: 'miles', 679: 'somewhere', 680: 'knowledge', 681: 'grand', 682: 'listening', 683: 'hope', 684: 'bat', 685: 'hurt', 686: 'lost', 687: 'longer', 688: 'hanging', 689: 'alas', 690: 'delight', 691: 'shoulders', 692: 'telescope', 693: 'impossible', 694: 'hoping', 695: 'rules', 696: 'poison', 697: 'red', 698: 'deeply', 699: 'knife', 700: 'certain', 701: 'later', 702: 'finding', 703: 'candle', 704: 'decided', 705: 'possibly', 706: 'legs', 707: 'bring', 708: 'fond', 709: 'cake', 710: 'smaller', 711: 'holding', 712: 'remained', 713: 'expecting', 714: 'dull', 715: 'opening', 716: 'dears', 717: 'directions', 718: 'love', 719: 'cry', 720: 'pattering', 721: 'muttering', 722: 'savage', 723: 'timid', 724: 'yesterday', 725: 'sorts', 726: 'puzzling', 727: 'twenty', 728: 'doth', 729: 'crossed', 730: 'hoarse', 731: 'spread', 732: 'gently', 733: 'putting', 734: 'guess', 735: 'cause', 736: 'worse', 737: 'slipped', 738: 'general', 739: 'notion', 740: 'lesson', 741: 'show', 742: 'nurse', 743: 'dog', 744: 'throw', 745: 'passion', 746: 'duck', 747: 'fur', 748: 'cross', 749: 'sulky', 750: 'allow', 751: 'frog', 752: 'crown', 753: 'move', 754: 'pressed', 755: 'prizes', 756: 'chorus', 757: 'voices', 758: 'handed', 759: 'gravely', 760: 'speech', 761: 'cheered', 762: 'grave', 763: 'simply', 764: 'solemn', 765: 'noise', 766: 'choked', 767: 'whisper', 768: 'sad', 769: 'sighing', 770: 'fury', 771: 'met', 772: 'easily', 773: 'joined', 774: 'aloud', 775: 'venture', 776: 'carefully', 777: 'remarking', 778: 'suit', 779: 'mentioned', 780: 'guessed', 781: 'hunting', 782: 'mistake', 783: 'plate', 784: 'knocking', 785: 'real', 786: 'floor', 787: 'effect', 788: 'elbow', 789: 'stopped', 790: 'forgetting', 791: 'crash', 792: 'em', 793: 'fellow', 794: 'dead', 795: 'sense', 796: 'moving', 797: 'cakes', 798: 'plan', 799: 'paw', 800: 'hungry', 801: 'picked', 802: 'escape', 803: 'edge', 804: 'immediately', 805: 'folded', 806: 'present', 807: 'confusing', 808: 'brought', 809: 'remarks', 810: 'pray', 811: 'answered', 812: 'free', 813: 'green', 814: 'shaking', 815: 'succeeded', 816: 'serpents', 817: 'girls', 818: 'tasted', 819: 'settled', 820: 'pieces', 821: 'nibbling', 822: 'bringing', 823: 'livery', 824: 'considered', 825: 'loudly', 826: 'letter', 827: 'order', 828: 'staring', 829: 'howling', 830: 'instance', 831: 'repeating', 832: 'nursing', 833: 'courage', 834: 'grinned', 835: 'growl', 836: 'faster', 837: 'advantage', 838: 'boy', 839: 'tossing', 840: 'caught', 841: 'shaped', 842: 'proper', 843: 'sobbing', 844: 'instead', 845: 'civil', 846: 'cautiously', 847: 'music', 848: 'twinkling', 849: 'fly', 850: 'lady', 851: 'lived', 852: 'upset', 853: 'muchness', 854: 'roses', 855: 'watching', 856: 'checked', 857: 'eager', 858: 'guests', 859: 'cards', 860: 'unfortunate', 861: 'execution', 862: 'hedgehogs', 863: 'tucked', 864: 'turns', 865: 'alive', 866: 'friend', 867: 'anxious', 868: 'true', 869: 'mustard', 870: 'exclaimed', 871: 'tortoise', 872: 'drawling', 873: 'week', 874: 'quadrille', 875: 'figure', 876: 'mark', 877: 'snail', 878: 'tails', 879: 'obliged', 880: 'follows', 881: 'around', 882: 'owl', 883: 'panther', 884: 'pie', 885: 'trumpet', 886: 'spectacles', 887: 'teacup', 888: 'wrote', 889: 'list', 890: 'fit', 891: 'pleasure', 892: 'picking', 893: 'remarkable', 894: 'afterwards', 895: 'occurred', 896: 'waistcoat', 897: 'started', 898: 'hedge', 899: 'straight', 900: 'dipped', 901: 'falling', 902: 'cupboards', 903: 'shelves', 904: 'jar', 905: 'tumbling', 906: 'stairs', 907: 'thousand', 908: 'learnt', 909: 'showing', 910: 'latitude', 911: 'longitude', 912: 'funny', 913: 'milk', 914: 'earnestly', 915: 'wind', 916: 'whiskers', 917: 'row', 918: 'doors', 919: 'legged', 920: 'locks', 921: 'longed', 922: 'beds', 923: 'flowers', 924: 'cool', 925: 'fountains', 926: 'shutting', 927: 'label', 928: 'beautifully', 929: 'wise', 930: 'wild', 931: 'beasts', 932: 'unpleasant', 933: 'friends', 934: 'burn', 935: 'usually', 936: 'sooner', 937: 'taste', 938: 'mixed', 939: 'lovely', 940: 'crying', 941: 'advice', 942: 'playing', 943: 'forgot', 944: 'bye', 945: 'boots', 946: 'sending', 947: 'presents', 948: 'struck', 949: 'ashamed', 950: 'trotting', 951: 'ah', 952: 'ringlets', 953: 'six', 954: 'paris', 955: 'rome', 956: 'lap', 957: 'neatly', 958: 'claws', 959: 'smiling', 960: 'jaws', 961: 'rapidly', 962: 'salt', 963: 'railway', 964: 'conclusion', 965: 'wherever', 966: 'splashing', 967: 'swimming', 968: 'wink', 969: 'conqueror', 970: 'clear', 971: 'ago', 972: 'fright', 973: 'animal', 974: 'feelings', 975: 'quiet', 976: 'purring', 977: 'nicely', 978: 'washing', 979: 'catching', 980: 'brown', 981: 'dinner', 982: 'belongs', 983: 'useful', 984: 'sorrowful', 985: 'dogs', 986: 'hate', 987: 'eaglet', 988: 'caucus', 989: 'assembled', 990: 'wet', 991: 'older', 992: 'knowing', 993: 'authority', 994: 'ring', 995: 'whose', 996: 'edwin', 997: 'morcar', 998: 'earls', 999: 'mercia', 1000: 'northumbria', 1001: 'archbishop', 1002: 'advisable', 1003: 'hurriedly', 1004: 'meet', 1005: 'offer', 1006: 'smile', 1007: 'easy', 1008: 'hour', 1009: 'panting', 1010: 'forehead', 1011: 'position', 1012: 'comfits', 1013: 'luckily', 1014: 'absurd', 1015: 'caused', 1016: 'law', 1017: 'wasting', 1018: 'humbly', 1019: 'bend', 1020: 'pleaded', 1021: 'crab', 1022: 'bird', 1023: 'sensation', 1024: 'throat', 1025: 'alone', 1026: 'lonely', 1027: 'footsteps', 1028: 'ferrets', 1029: 'nowhere', 1030: 'mary', 1031: 'ann', 1032: 'messages', 1033: 'directly', 1034: 'ordering', 1035: 'drunk', 1036: 'stoop', 1037: 'curled', 1038: 'whatever', 1039: 'unhappy', 1040: 'fancied', 1041: 'woman', 1042: 'books', 1043: 'trembled', 1044: 'proved', 1045: 'snatch', 1046: 'concluded', 1047: 'cucumber', 1048: 'pat', 1049: 'apples', 1050: 'bear', 1051: 'kick', 1052: 'feeble', 1053: 'squeaking', 1054: 'comes', 1055: 'shower', 1056: 'pebbles', 1057: 'rattling', 1058: 'hit', 1059: 'delighted', 1060: 'giving', 1061: 'rush', 1062: 'safe', 1063: 'wandered', 1064: 'excellent', 1065: 'smallest', 1066: 'bark', 1067: 'stretching', 1068: 'coaxing', 1069: 'thistle', 1070: 'stretched', 1071: 'tiptoe', 1072: 'smoking', 1073: 'addressed', 1074: 'encouraging', 1075: 'contemptuously', 1076: 'anger', 1077: 'unfolded', 1078: 'busy', 1079: 'somersault', 1080: 'sell', 1081: 'weak', 1082: 'lasted', 1083: 'eel', 1084: 'clever', 1085: 'stuff', 1086: 'changing', 1087: 'wretched', 1088: 'chose', 1089: 'yawned', 1090: 'merely', 1091: 'taller', 1092: 'shorter', 1093: 'difficult', 1094: 'broke', 1095: 'nibbled', 1096: 'violent', 1097: 'blow', 1098: 'lefthand', 1099: 'alarm', 1100: 'follow', 1101: 'distant', 1102: 'wandering', 1103: 'roots', 1104: 'attending', 1105: 'doubtfully', 1106: 'telling', 1107: 'matters', 1108: 'entangled', 1109: 'branches', 1110: 'invitation', 1111: 'laughed', 1112: 'secondly', 1113: 'inside', 1114: 'extraordinary', 1115: 'within', 1116: 'constant', 1117: 'maybe', 1118: 'dreadful', 1119: 'drive', 1120: 'leaning', 1121: 'stirring', 1122: 'cauldron', 1123: 'pause', 1124: 'sneeze', 1125: 'introduce', 1126: 'throwing', 1127: 'plates', 1128: 'dishes', 1129: 'already', 1130: 'takes', 1131: 'hint', 1132: 'singing', 1133: 'line', 1134: 'sneezes', 1135: 'sang', 1136: 'thoroughly', 1137: 'threw', 1138: 'missed', 1139: 'twist', 1140: 'also', 1141: 'extremely', 1142: 'neither', 1143: 'ugly', 1144: 'startled', 1145: 'explanation', 1146: 'denied', 1147: 'invited', 1148: 'became', 1149: 'appear', 1150: 'raving', 1151: 'ending', 1152: 'raised', 1153: 'front', 1154: 'using', 1155: 'cushion', 1156: 'resting', 1157: 'wine', 1158: 'laid', 1159: 'wants', 1160: 'personal', 1161: 'rude', 1162: 'wide', 1163: 'riddles', 1164: 'breathe', 1165: 'break', 1166: 'uneasily', 1167: 'meekly', 1168: 'cup', 1169: 'tells', 1170: 'year', 1171: 'spoon', 1172: 'concert', 1173: 'wash', 1174: 'yawning', 1175: 'sisters', 1176: 'names', 1177: 'ill', 1178: 'living', 1179: 'triumphantly', 1180: 'sulkily', 1181: 'learning', 1182: 'interrupting', 1183: 'rubbing', 1184: 'manner', 1185: 'closed', 1186: 'flower', 1187: 'painting', 1188: 'beheaded', 1189: 'flat', 1190: 'carrying', 1191: 'courtiers', 1192: 'ornamented', 1193: 'royal', 1194: 'mostly', 1195: 'crimson', 1196: 'doubtful', 1197: 'lie', 1198: 'smiled', 1199: 'scream', 1200: 'flamingoes', 1201: 'body', 1202: 'laughing', 1203: 'unrolled', 1204: 'quarrelling', 1205: 'stamping', 1206: 'shouting', 1207: 'dispute', 1208: 'removed', 1209: 'fight', 1210: 'collected', 1211: 'unless', 1212: 'entirely', 1213: 'disappeared', 1214: 'wildly', 1215: 'tempered', 1216: 'sugar', 1217: 'forget', 1218: 'tut', 1219: 'keeping', 1220: 'experiment', 1221: 'bite', 1222: 'agree', 1223: 'imagine', 1224: 'custody', 1225: 'executions', 1226: 'sun', 1227: 'watched', 1228: 'heart', 1229: 'heavy', 1230: 'proud', 1231: 'relief', 1232: 'regular', 1233: 'uglification', 1234: 'mystery', 1235: 'recovered', 1236: 'delightful', 1237: 'turtles', 1238: 'advance', 1239: 'dancing', 1240: 'treading', 1241: 'toes', 1242: 'kindly', 1243: 'dinn', 1244: 'thoughts', 1245: 'part', 1246: 'editions', 1247: 'tones', 1248: 'pennyworth', 1249: 'scroll', 1250: 'parchment', 1251: 'wig', 1252: 'pencil', 1253: 'quickly', 1254: 'blew', 1255: 'blasts', 1256: 'summer', 1257: 'sent', 1258: 'fashion', 1259: 'singers', 1260: 'miserable', 1261: 'examine', 1262: 'undertone', 1263: 'goldfish', 1264: 'accident', 1265: 'note', 1266: 'mile', 1267: 'signed', 1268: 'proves', 1269: 'returned', 1270: 'atom', 1271: 'wonderful', 1272: 'teacups', 1273: 'lewis', 1274: 'carroll', 1275: 'conversations', 1276: 'daisy', 1277: 'chain', 1278: 'daisies', 1279: 'pink', 1280: 'wondered', 1281: 'actually', 1282: 'flashed', 1283: 'burning', 1284: 'field', 1285: 'fortunately', 1286: 'pop', 1287: 'tunnel', 1288: 'stopping', 1289: 'plenty', 1290: 'maps', 1291: 'hung', 1292: 'pegs', 1293: 'labelled', 1294: 'orange', 1295: 'marmalade', 1296: 'disappointment', 1297: 'empty', 1298: 'drop', 1299: 'killing', 1300: 'brave', 1301: 'centre', 1302: 'schoolroom', 1303: 'practice', 1304: 'downward', 1305: 'antipathies', 1306: 'country', 1307: 'zealand', 1308: 'australia', 1309: 'curtsey', 1310: 'curtseying', 1311: 'ignorant', 1312: 'saucer', 1313: 'dreamy', 1314: 'dozing', 1315: 'truth', 1316: 'heap', 1317: 'sticks', 1318: 'overhead', 1319: 'hurrying', 1320: 'lit', 1321: 'lamps', 1322: 'locked', 1323: 'solid', 1324: 'belong', 1325: 'curtain', 1326: 'fifteen', 1327: 'lock', 1328: 'fitted', 1329: 'rat', 1330: 'knelt', 1331: 'loveliest', 1332: 'wander', 1333: 'doorway', 1334: 'lately', 1335: 'telescopes', 1336: 'printed', 1337: 'letters', 1338: 'histories', 1339: 'burnt', 1340: 'eaten', 1341: 'poker', 1342: 'bleeds', 1343: 'disagree', 1344: 'flavour', 1345: 'cherry', 1346: 'tart', 1347: 'custard', 1348: 'pine', 1349: 'apple', 1350: 'roast', 1351: 'turkey', 1352: 'toffee', 1353: 'buttered', 1354: 'toast', 1355: 'brightened', 1356: 'shrink', 1357: 'flame', 1358: 'blown', 1359: 'plainly', 1360: 'climb', 1361: 'slippery', 1362: 'advise', 1363: 'seldom', 1364: 'scolded', 1365: 'cheated', 1366: 'pretending', 1367: 'pretend', 1368: 'respectable', 1369: 'currants', 1370: 'creep', 1371: 'ate', 1372: 'eats', 1373: 'common', 1374: 'largest', 1375: 'stockings', 1376: 'christmas', 1377: 'planning', 1378: 'carrier', 1379: 'odd', 1380: 'esq', 1381: 'hearthrug', 1382: 'fender', 1383: 'hopeless', 1384: 'shedding', 1385: 'gallons', 1386: 'reaching', 1387: 'dried', 1388: 'returning', 1389: 'splendidly', 1390: 'dressed', 1391: 'desperate', 1392: 'skurried', 1393: 'darkness', 1394: 'fanning', 1395: 'puzzle', 1396: 'ada', 1397: 'thirteen', 1398: 'multiplication', 1399: 'signify', 1400: 'geography', 1401: 'london', 1402: 'crocodile', 1403: 'improve', 1404: 'shining', 1405: 'pour', 1406: 'waters', 1407: 'nile', 1408: 'scale', 1409: 'cheerfully', 1410: 'welcome', 1411: 'fishes', 1412: 'poky', 1413: 'toys', 1414: 'burst', 1415: 'measure', 1416: 'avoid', 1417: 'existence', 1418: 'speed', 1419: 'splash', 1420: 'somehow', 1421: 'seaside', 1422: 'coast', 1423: 'bathing', 1424: 'machines', 1425: 'sand', 1426: 'wooden', 1427: 'spades', 1428: 'lodging', 1429: 'houses', 1430: 'station', 1431: 'wept', 1432: 'punished', 1433: 'drowned', 1434: 'walrus', 1435: 'hippopotamus', 1436: 'harm', 1437: 'brother', 1438: 'latin', 1439: 'grammar', 1440: 'inquisitively', 1441: 'daresay', 1442: 'ou', 1443: 'est', 1444: 'chatte', 1445: 'leap', 1446: 'quiver', 1447: 'passionate', 1448: 'soothing', 1449: 'lazily', 1450: 'sits', 1451: 'licking', 1452: 'soft', 1453: 'bristling', 1454: 'family', 1455: 'hated', 1456: 'nasty', 1457: 'vulgar', 1458: 'eyed', 1459: 'terrier', 1460: 'curly', 1461: 'farmer', 1462: 'hundred', 1463: 'pounds', 1464: 'kills', 1465: 'rats', 1466: 'commotion', 1467: 'softly', 1468: 'draggled', 1469: 'feathers', 1470: 'clinging', 1471: 'dripping', 1472: 'consultation', 1473: 'familiarly', 1474: 'known', 1475: 'positively', 1476: 'refused', 1477: 'fixed', 1478: 'bad', 1479: 'cold', 1480: 'driest', 1481: 'favoured', 1482: 'pope', 1483: 'submitted', 1484: 'leaders', 1485: 'accustomed', 1486: 'usurpation', 1487: 'conquest', 1488: 'shiver', 1489: 'declared', 1490: 'stigand', 1491: 'patriotic', 1492: 'canterbury', 1493: 'crossly', 1494: 'worm', 1495: 'edgar', 1496: 'atheling', 1497: 'conduct', 1498: 'moderate', 1499: 'insolence', 1500: 'normans', 1501: 'rising', 1502: 'meeting', 1503: 'adjourn', 1504: 'immediate', 1505: 'adoption', 1506: 'energetic', 1507: 'remedies', 1508: 'bent', 1509: 'hide', 1510: 'tittered', 1511: 'audibly', 1512: 'paused', 1513: 'inclined', 1514: 'winter', 1515: 'circle', 1516: 'exact', 1517: 'shape', 1518: 'placed', 1519: 'shakespeare', 1520: 'calling', 1521: 'despair', 1522: 'pulled', 1523: 'prize', 1524: 'presented', 1525: 'acceptance', 1526: 'elegant', 1527: 'laugh', 1528: 'complained', 1529: 'ones', 1530: 'patted', 1531: 'begged', 1532: 'promised', 1533: 'c', 1534: 'prosecute', 1535: 'denial', 1536: 'cur', 1537: 'cunning', 1538: 'condemn', 1539: 'death', 1540: 'fifth', 1541: 'undo', 1542: 'insult', 1543: 'growled', 1544: 'quicker', 1545: 'daughter', 1546: 'lose', 1547: 'snappishly', 1548: 'patience', 1549: 'oyster', 1550: 'addressing', 1551: 'pet', 1552: 'magpie', 1553: 'wrapping', 1554: 'canary', 1555: 'bed', 1556: 'various', 1557: 'pretexts', 1558: 'spirited', 1559: 'sends', 1560: 'naturedly', 1561: 'completely', 1562: 'pointed', 1563: 'housemaid', 1564: 'neat', 1565: 'brass', 1566: 'w', 1567: 'engraved', 1568: 'upstairs', 1569: 'lest', 1570: 'fancying', 1571: 'tidy', 1572: 'hoped', 1573: 'pairs', 1574: 'nevertheless', 1575: 'uncorked', 1576: 'lips', 1577: 'whenever', 1578: 'expected', 1579: 'pressing', 1580: 'ceiling', 1581: 'save', 1582: 'kneel', 1583: 'resource', 1584: 'magic', 1585: 'grew', 1586: 'pleasanter', 1587: 'rabbits', 1588: 'fairy', 1589: 'tales', 1590: 'comfort', 1591: 'foolish', 1592: 'presently', 1593: 'inwards', 1594: 'attempt', 1595: 'failure', 1596: 'possible', 1597: 'frame', 1598: 'fills', 1599: 'whispers', 1600: 'shrieks', 1601: 'frames', 1602: 'pulling', 1603: 'rumbling', 1604: 'cartwheels', 1605: 'ladder', 1606: 'lad', 1607: 'tie', 1608: 'rope', 1609: 'loose', 1610: 'nay', 1611: 'shy', 1612: 'fireplace', 1613: 'narrow', 1614: 'scratching', 1615: 'scrambling', 1616: 'brandy', 1617: 'choke', 1618: 'ye', 1619: 'flustered', 1620: 'jack', 1621: 'rocket', 1622: 'barrowful', 1623: 'produced', 1624: 'swallowed', 1625: 'thick', 1626: 'arranged', 1627: 'peering', 1628: 'enormous', 1629: 'feebly', 1630: 'touch', 1631: 'whistle', 1632: 'terribly', 1633: 'spite', 1634: 'whereupon', 1635: 'yelp', 1636: 'rushed', 1637: 'worry', 1638: 'dodged', 1639: 'tumbled', 1640: 'heels', 1641: 'cart', 1642: 'horse', 1643: 'trampled', 1644: 'series', 1645: 'charges', 1646: 'forwards', 1647: 'barking', 1648: 'hoarsely', 1649: 'tongue', 1650: 'faint', 1651: 'leant', 1652: 'buttercup', 1653: 'fanned', 1654: 'teaching', 1655: 'tricks', 1656: 'blades', 1657: 'circumstances', 1658: 'chapter', 1659: 'v', 1660: 'languid', 1661: 'shyly', 1662: 'sternly', 1663: 'clearly', 1664: 'sizes', 1665: 'chrysalis', 1666: 'butterfly', 1667: 'irritated', 1668: 'state', 1669: 'promising', 1670: 'swallowing', 1671: 'wait', 1672: 'puffed', 1673: 'bee', 1674: 'incessantly', 1675: 'son', 1676: 'feared', 1677: 'injure', 1678: 'brain', 1679: 'uncommonly', 1680: 'fat', 1681: 'sage', 1682: 'grey', 1683: 'limbs', 1684: 'supple', 1685: 'ointment', 1686: 'shilling', 1687: 'couple', 1688: 'tougher', 1689: 'suet', 1690: 'goose', 1691: 'bones', 1692: 'beak', 1693: 'argued', 1694: 'wife', 1695: 'muscular', 1696: 'strength', 1697: 'jaw', 1698: 'steady', 1699: 'balanced', 1700: 'awfully', 1701: 'airs', 1702: 'altered', 1703: 'contradicted', 1704: 'losing', 1705: 'rearing', 1706: 'upright', 1707: 'piteous', 1708: 'patiently', 1709: 'crawled', 1710: 'underneath', 1711: 'closely', 1712: 'swallow', 1713: 'morsel', 1714: 'immense', 1715: 'length', 1716: 'rise', 1717: 'stalk', 1718: 'result', 1719: 'curving', 1720: 'graceful', 1721: 'zigzag', 1722: 'dive', 1723: 'tops', 1724: 'hiss', 1725: 'flown', 1726: 'beating', 1727: 'wings', 1728: 'subdued', 1729: 'sob', 1730: 'banks', 1731: 'hedges', 1732: 'hatching', 1733: 'weeks', 1734: 'sorry', 1735: 'annoyed', 1736: 'highest', 1737: 'raising', 1738: 'needs', 1739: 'wriggling', 1740: 'invent', 1741: 'changes', 1742: 'deepest', 1743: 'contempt', 1744: 'denying', 1745: 'egg', 1746: 'truthful', 1747: 'adding', 1748: 'raw', 1749: 'nest', 1750: 'crouched', 1751: 'untwist', 1752: 'whoever', 1753: 'frighten', 1754: 'wits', 1755: 'righthand', 1756: 'judging', 1757: 'rapped', 1758: 'knuckles', 1759: 'footmen', 1760: 'powdered', 1761: 'crept', 1762: 'producing', 1763: 'curls', 1764: 'stupidly', 1765: 'knocked', 1766: 'reasons', 1767: 'kettle', 1768: 'knock', 1769: 'uncivil', 1770: 'tomorrow', 1771: 'skimming', 1772: 'grazed', 1773: 'louder', 1774: 'muttered', 1775: 'argue', 1776: 'crazy', 1777: 'variations', 1778: 'whistling', 1779: 'desperately', 1780: 'idiotic', 1781: 'smoke', 1782: 'stool', 1783: 'sneezed', 1784: 'occasionally', 1785: 'alternately', 1786: 'hearth', 1787: 'grinning', 1788: 'manners', 1789: 'grins', 1790: 'violence', 1791: 'fix', 1792: 'irons', 1793: 'saucepans', 1794: 'blows', 1795: 'agony', 1796: 'terror', 1797: 'precious', 1798: 'unusually', 1799: 'saucepan', 1800: 'flew', 1801: 'minded', 1802: 'axis', 1803: 'axes', 1804: 'chop', 1805: 'glanced', 1806: 'bother', 1807: 'abide', 1808: 'figures', 1809: 'lullaby', 1810: 'shake', 1811: 'roughly', 1812: 'annoy', 1813: 'knows', 1814: 'teases', 1815: 'howled', 1816: 'enjoy', 1817: 'pleases', 1818: 'flinging', 1819: 'frying', 1820: 'pan', 1821: 'star', 1822: 'snorting', 1823: 'steam', 1824: 'engine', 1825: 'doubling', 1826: 'straightening', 1827: 'knot', 1828: 'tight', 1829: 'prevent', 1830: 'undoing', 1831: 'kill', 1832: 'murder', 1833: 'grunt', 1834: 'expressing', 1835: 'snout', 1836: 'seriously', 1837: 'sobbed', 1838: 'carry', 1839: 'relieved', 1840: 'trot', 1841: 'handsome', 1842: 'seeing', 1843: 'bough', 1844: 'yards', 1845: 'natured', 1846: 'teeth', 1847: 'treated', 1848: 'respect', 1849: 'puss', 1850: 'wider', 1851: 'depends', 1852: 'visit', 1853: 'growls', 1854: 'wags', 1855: 'wag', 1856: 'growling', 1857: 'happening', 1858: 'hatters', 1859: 'branch', 1860: 'fig', 1861: 'appearing', 1862: 'vanishing', 1863: 'giddy', 1864: 'farther', 1865: 'chimneys', 1866: 'thatched', 1867: 'towards', 1868: 'elbows', 1869: 'chair', 1870: 'cutting', 1871: 'severity', 1872: 'raven', 1873: 'desk', 1874: 'fun', 1875: 'ravens', 1876: 'desks', 1877: 'fourth', 1878: 'works', 1879: 'grumbled', 1880: 'gloomily', 1881: 'month', 1882: 'readily', 1883: 'stays', 1884: 'poured', 1885: 'riddle', 1886: 'slightest', 1887: 'wearily', 1888: 'waste', 1889: 'answers', 1890: 'accounts', 1891: 'terms', 1892: 'mournfully', 1893: 'quarrelled', 1894: 'given', 1895: 'tray', 1896: 'pinch', 1897: 'bawled', 1898: 'murdering', 1899: 'mournful', 1900: 'whiles', 1901: 'vote', 1902: 'alarmed', 1903: 'proposal', 1904: 'fellows', 1905: 'quick', 1906: 'elsie', 1907: 'lacie', 1908: 'tillie', 1909: 'interest', 1910: 'eating', 1911: 'drinking', 1912: 'ways', 1913: 'opinion', 1914: 'helped', 1915: 'sh', 1916: 'interrupt', 1917: 'consented', 1918: 'promise', 1919: 'clean', 1920: 'unwillingly', 1921: 'jug', 1922: 'offend', 1923: 'eh', 1924: 'choosing', 1925: 'doze', 1926: 'pinched', 1927: 'woke', 1928: 'traps', 1929: 'moon', 1930: 'memory', 1931: 'drawing', 1932: 'rudeness', 1933: 'disgust', 1934: 'teapot', 1935: 'stupidest', 1936: 'leading', 1937: 'today', 1938: 'unlocking', 1939: 'entrance', 1940: 'paint', 1941: 'jogged', 1942: 'blame', 1943: 'deserved', 1944: 'spoken', 1945: 'tulip', 1946: 'onions', 1947: 'flung', 1948: 'brush', 1949: 'unjust', 1950: 'chanced', 1951: 'afore', 1952: 'clubs', 1953: 'oblong', 1954: 'corners', 1955: 'diamonds', 1956: 'merrily', 1957: 'couples', 1958: 'kings', 1959: 'queens', 1960: 'recognised', 1961: 'noticing', 1962: 'velvet', 1963: 'processions', 1964: 'opposite', 1965: 'rosetree', 1966: 'pattern', 1967: 'backs', 1968: 'glaring', 1969: 'beast', 1970: 'screamed', 1971: 'bowing', 1972: 'humble', 1973: 'meanwhile', 1974: 'examining', 1975: 'remaining', 1976: 'execute', 1977: 'protection', 1978: 'pot', 1979: 'marched', 1980: 'evidently', 1981: 'roared', 1982: 'peeping', 1983: 'pity', 1984: 'boxed', 1985: 'laughter', 1986: 'thunder', 1987: 'ridges', 1988: 'furrows', 1989: 'balls', 1990: 'mallets', 1991: 'double', 1992: 'chief', 1993: 'managing', 1994: 'comfortably', 1995: 'straightened', 1996: 'expression', 1997: 'bursting', 1998: 'provoking', 1999: 'act', 2000: 'crawling', 2001: 'ridge', 2002: 'furrow', 2003: 'send', 2004: 'doubled', 2005: 'parts', 2006: 'played', 2007: 'fighting', 2008: 'furious', 2009: 'uneasy', 2010: 'beheading', 2011: 'appearance', 2012: 'nodded', 2013: 'account', 2014: 'someone', 2015: 'fairly', 2016: 'complaining', 2017: 'quarrel', 2018: 'oneself', 2019: 'attends', 2020: 'arch', 2021: 'croqueted', 2022: 'win', 2023: 'finishing', 2024: 'kiss', 2025: 'likes', 2026: 'impertinent', 2027: 'passing', 2028: 'settling', 2029: 'difficulties', 2030: 'screaming', 2031: 'search', 2032: 'engaged', 2033: 'croqueting', 2034: 'helpless', 2035: 'appealed', 2036: 'settle', 2037: 'arguments', 2038: 'prison', 2039: 'arrow', 2040: 'fading', 2041: 'affectionately', 2042: 'pleasant', 2043: 'hopeful', 2044: 'vinegar', 2045: 'sour', 2046: 'camomile', 2047: 'bitter', 2048: 'barley', 2049: 'sweet', 2050: 'stingy', 2051: 'squeezed', 2052: 'closer', 2053: 'uncomfortably', 2054: 'bore', 2055: 'minding', 2056: 'morals', 2057: 'waist', 2058: 'feather', 2059: 'flock', 2060: 'mineral', 2061: 'attended', 2062: 'vegetable', 2063: 'cheap', 2064: 'birthday', 2065: 'dig', 2066: 'worried', 2067: 'died', 2068: 'favourite', 2069: 'linked', 2070: 'tremble', 2071: 'thunderstorm', 2072: 'fine', 2073: 'fair', 2074: 'warning', 2075: 'choice', 2076: 'absence', 2077: 'shade', 2078: 'delay', 2079: 'cost', 2080: 'sentenced', 2081: 'company', 2082: 'pardoned', 2083: 'picture', 2084: 'leaving', 2085: 'rubbed', 2086: 'chuckled', 2087: 'executes', 2088: 'ledge', 2089: 'rock', 2090: 'sorrow', 2091: 'hollow', 2092: 'occasional', 2093: 'exclamation', 2094: 'hjckrrh', 2095: 'calmly', 2096: 'sink', 2097: 'mayn', 2098: 'educations', 2099: 'learned', 2100: 'extra', 2101: 'reeling', 2102: 'writhing', 2103: 'arithmetic', 2104: 'ambition', 2105: 'distraction', 2106: 'derision', 2107: 'lifted', 2108: 'uglifying', 2109: 'beautify', 2110: 'prettier', 2111: 'uglify', 2112: 'simpleton', 2113: 'encouraged', 2114: 'counting', 2115: 'subjects', 2116: 'flappers', 2117: 'ancient', 2118: 'modern', 2119: 'seaography', 2120: 'conger', 2121: 'fainting', 2122: 'coils', 2123: 'stiff', 2124: 'classics', 2125: 'grief', 2126: 'hid', 2127: 'lessen', 2128: 'eleventh', 2129: 'holiday', 2130: 'games', 2131: 'flapper', 2132: 'bone', 2133: 'punching', 2134: 'cheeks', 2135: 'introduced', 2136: 'form', 2137: 'seals', 2138: 'salmon', 2139: 'cleared', 2140: 'jelly', 2141: 'partners', 2142: 'retire', 2143: 'bound', 2144: 'capering', 2145: 'yelled', 2146: 'land', 2147: 'dropping', 2148: 'pretty', 2149: 'forepaws', 2150: 'shingle', 2151: 'askance', 2152: 'thanked', 2153: 'scaly', 2154: 'england', 2155: 'france', 2156: 'beloved', 2157: 'thrown', 2158: 'shiny', 2159: 'blacking', 2160: 'soles', 2161: 'eels', 2162: 'shrimp', 2163: 'anywhere', 2164: 'journey', 2165: 'impatient', 2166: 'explanations', 2167: 'gained', 2168: 'listeners', 2169: 'sluggard', 2170: 'declare', 2171: 'baked', 2172: 'eyelids', 2173: 'trims', 2174: 'belt', 2175: 'buttons', 2176: 'sands', 2177: 'gay', 2178: 'lark', 2179: 'contemptuous', 2180: 'shark', 2181: 'tide', 2182: 'rises', 2183: 'sharks', 2184: 'tremulous', 2185: 'uncommon', 2186: 'explained', 2187: 'persisted', 2188: 'disobey', 2189: 'sharing', 2190: 'crust', 2191: 'gravy', 2192: 'meat', 2193: 'share', 2194: 'treat', 2195: 'boon', 2196: 'permitted', 2197: 'received', 2198: 'fork', 2199: 'banquet', 2200: 'hm', 2201: 'rich', 2202: 'tureen', 2203: 'dainties', 2204: 'cares', 2205: 'beauti', 2206: 'ful', 2207: 'panted', 2208: 'faintly', 2209: 'breeze', 2210: 'seated', 2211: 'throne', 2212: 'arrived', 2213: 'standing', 2214: 'chains', 2215: 'soldier', 2216: 'guard', 2217: 'refreshments', 2218: 'pass', 2219: 'justice', 2220: 'wore', 2221: 'frontispiece', 2222: 'comfortable', 2223: 'becoming', 2224: 'rightly', 2225: 'men', 2226: 'indignant', 2227: 'spell', 2228: 'neighbour', 2229: 'muddle', 2230: 'squeaked', 2231: 'juror', 2232: 'herald', 2233: 'accusation', 2234: 'stole', 2235: 'fourteenth', 2236: 'fifteenth', 2237: 'sixteenth', 2238: 'dates', 2239: 'reduced', 2240: 'shillings', 2241: 'pence', 2242: 'hat', 2243: 'memorandum', 2244: 'fidgeted', 2245: 'spot', 2246: 'encourage', 2247: 'shifting', 2248: 'remain', 2249: 'boldly', 2250: 'reasonable', 2251: 'pace', 2252: 'ridiculous', 2253: 'thin', 2254: 'twinkled', 2255: 'denies', 2256: 'deny', 2257: 'speaker', 2258: 'canvas', 2259: 'bag', 2260: 'tied', 2261: 'strings', 2262: 'newspapers', 2263: 'trials', 2264: 'attempts', 2265: 'applause', 2266: 'understood', 2267: 'lower', 2268: 'officer', 2269: 'folding', 2270: 'collar', 2271: 'shrieked', 2272: 'ache', 2273: 'fumbled', 2274: 'flurry', 2275: 'tipped', 2276: 'skirt', 2277: 'upsetting', 2278: 'sprawling', 2279: 'reminding', 2280: 'globe', 2281: 'accidentally', 2282: 'dismay', 2283: 'vague', 2284: 'die', 2285: 'cannot', 2286: 'proceed', 2287: 'places', 2288: 'emphasis', 2289: 'haste', 2290: 'downwards', 2291: 'unable', 2292: 'signifies', 2293: 'shock', 2294: 'pencils', 2295: 'diligently', 2296: 'overcome', 2297: 'gazing', 2298: 'respectful', 2299: 'cackled', 2300: 'forty', 2301: 'persons', 2302: 'invented', 2303: 'oldest', 2304: 'prisoner', 2305: 'directed', 2306: 'queerest', 2307: 'imitated', 2308: 'prove', 2309: 'sign', 2310: 'mischief', 2311: 'honest', 2312: 'clapping', 2313: 'guilt', 2314: 'character', 2315: 'push', 2316: 'involved', 2317: 'affair', 2318: 'trusts', 2319: 'obstacle', 2320: 'secret', 2321: 'sixpence', 2322: 'attempted', 2323: 'saves', 2324: 'spreading', 2325: 'cardboard', 2326: 'fits', 2327: 'furiously', 2328: 'inkstand', 2329: 'ink', 2330: 'trickling', 2331: 'twentieth', 2332: 'purple', 2333: 'flying', 2334: 'brushing', 2335: 'fluttered', 2336: 'wake', 2337: 'kissed', 2338: 'setting', 2339: 'dreaming', 2340: 'dreamed', 2341: 'clasped', 2342: 'toss', 2343: 'listened', 2344: 'rustled', 2345: 'splashed', 2346: 'neighbouring', 2347: 'rattle', 2348: 'shared', 2349: 'meal', 2350: 'crashed', 2351: 'choking', 2352: 'believed', 2353: 'reality', 2354: 'rustling', 2355: 'rippling', 2356: 'reeds', 2357: 'tinkling', 2358: 'sheep', 2359: 'bells', 2360: 'cries', 2361: 'shepherd', 2362: 'noises', 2363: 'clamour', 2364: 'farm', 2365: 'yard', 2366: 'lowing', 2367: 'cattle', 2368: 'lastly', 2369: 'pictured', 2370: 'riper', 2371: 'years', 2372: 'loving', 2373: 'childhood', 2374: 'gather', 2375: 'sorrows', 2376: 'joys', 2377: 'remembering'}\n"
          ],
          "name": "stdout"
        }
      ]
    },
    {
      "cell_type": "code",
      "metadata": {
        "id": "jv7YvyrFIVGx"
      },
      "source": [
        "word2id = dict([(value, key) for key, value in id2word.items()])"
      ],
      "execution_count": 20,
      "outputs": []
    },
    {
      "cell_type": "code",
      "metadata": {
        "colab": {
          "base_uri": "https://localhost:8080/"
        },
        "id": "zLAJiRV-Id_d",
        "outputId": "d3bb79f4-ec45-4940-90c2-d257ba3c2a2e"
      },
      "source": [
        "print(word2id)"
      ],
      "execution_count": 21,
      "outputs": [
        {
          "output_type": "stream",
          "text": [
            "{'said': 1, 'alice': 2, 'little': 3, 'one': 4, 'would': 5, 'know': 6, 'went': 7, 'like': 8, 'could': 9, 'time': 10, 'see': 11, 'queen': 12, 'thought': 13, 'turtle': 14, 'well': 15, 'king': 16, 'began': 17, 'mock': 18, 'quite': 19, 'way': 20, 'think': 21, 'much': 22, 'first': 23, 'hatter': 24, 'gryphon': 25, 'rabbit': 26, 'say': 27, 'go': 28, 'voice': 29, 'thing': 30, 'looked': 31, 'never': 32, 'head': 33, 'must': 34, 'got': 35, 'mouse': 36, 'get': 37, 'round': 38, 'come': 39, 'tone': 40, 'great': 41, 'came': 42, 'two': 43, 'oh': 44, 'back': 45, 'duchess': 46, 'dormouse': 47, 'cat': 48, 'march': 49, 'large': 50, 'last': 51, 'nothing': 52, 'long': 53, 'looking': 54, 'moment': 55, 'found': 56, 'put': 57, 'right': 58, 'hare': 59, 'white': 60, 'door': 61, 'made': 62, 'eyes': 63, 'next': 64, 'things': 65, 'heard': 66, 'look': 67, 'might': 68, 'tell': 69, 'three': 70, 'replied': 71, 'seemed': 72, 'going': 73, 'good': 74, 'without': 75, 'day': 76, 'dear': 77, 'make': 78, 'upon': 79, 'poor': 80, 'soon': 81, 'away': 82, 'course': 83, 'took': 84, 'rather': 85, 'felt': 86, 'half': 87, 'sure': 88, 'yet': 89, 'added': 90, 'another': 91, 'shall': 92, 'let': 93, 'hand': 94, 'ever': 95, 'find': 96, 'till': 97, 'jury': 98, 'caterpillar': 99, 'getting': 100, 'take': 101, 'anything': 102, 'however': 103, 'minute': 104, 'feet': 105, 'tried': 106, 'sort': 107, 'words': 108, 'tea': 109, 'use': 110, 'even': 111, 'house': 112, 'eat': 113, 'table': 114, 'wish': 115, 'cried': 116, 'enough': 117, 'something': 118, 'court': 119, 'end': 120, 'please': 121, 'spoke': 122, 'perhaps': 123, 'question': 124, 'sat': 125, 'old': 126, 'bill': 127, 'soup': 128, 'ran': 129, 'talking': 130, 'turned': 131, 'high': 132, 'garden': 133, 'curious': 134, 'hastily': 135, 'seen': 136, 'near': 137, 'idea': 138, 'air': 139, 'saying': 140, 'bit': 141, 'low': 142, 'side': 143, 'face': 144, 'gave': 145, 'beginning': 146, 'ought': 147, 'saw': 148, 'trying': 149, 'left': 150, 'anxiously': 151, 'speak': 152, 'everything': 153, 'knew': 154, 'suppose': 155, 'called': 156, 'arm': 157, 'baby': 158, 'close': 159, 'hear': 160, 'wonder': 161, 'still': 162, 'people': 163, 'remember': 164, 'behind': 165, 'indeed': 166, 'certainly': 167, 'game': 168, 'grow': 169, 'set': 170, 'kept': 171, 'change': 172, 'sea': 173, 'done': 174, 'always': 175, 'us': 176, 'dodo': 177, 'whole': 178, 'better': 179, 'silence': 180, 'gone': 181, 'may': 182, 'footman': 183, 'suddenly': 184, 'many': 185, 'among': 186, 'else': 187, 'cats': 188, 'every': 189, 'really': 190, 'finished': 191, 'size': 192, 'best': 193, 'life': 194, 'far': 195, 'deal': 196, 'queer': 197, 'try': 198, 'used': 199, 'hands': 200, 'talk': 201, 'turning': 202, 'beautiful': 203, 'cook': 204, 'majesty': 205, 'book': 206, 'whether': 207, 'hurried': 208, 'though': 209, 'glad': 210, 'ask': 211, 'dinah': 212, 'afraid': 213, 'begin': 214, 'hurry': 215, 'read': 216, 'minutes': 217, 'child': 218, 'hardly': 219, 'makes': 220, 'growing': 221, 'give': 222, 'gloves': 223, 'nearly': 224, 'asked': 225, 'room': 226, 'keep': 227, 'turn': 228, 'mad': 229, 'sitting': 230, 'conversation': 231, 'either': 232, 'yes': 233, 'word': 234, 'name': 235, 'sight': 236, 'walked': 237, 'glass': 238, 'small': 239, 'opened': 240, 'bottle': 241, 'children': 242, 'waited': 243, 'box': 244, 'foot': 245, 'pool': 246, 'fan': 247, 'offended': 248, 'birds': 249, 'creatures': 250, 'party': 251, 'rest': 252, 'mouth': 253, 'pigeon': 254, 'remark': 255, 'soldiers': 256, 'witness': 257, 'sister': 258, 'mind': 259, 'coming': 260, 'lessons': 261, 'answer': 262, 'matter': 263, 'hall': 264, 'key': 265, 'rate': 266, 'waiting': 267, 'tears': 268, 'thinking': 269, 'mine': 270, 'tail': 271, 'continued': 272, 'believe': 273, 'explain': 274, 'call': 275, 'trial': 276, 'angrily': 277, 'shook': 278, 'least': 279, 'reason': 280, 'together': 281, 'timidly': 282, 'repeated': 283, 'puzzled': 284, 'remarked': 285, 'pig': 286, 'butter': 287, 'knave': 288, 'feel': 289, 'making': 290, 'slowly': 291, 'happen': 292, 'noticed': 293, 'top': 294, 'four': 295, 'opportunity': 296, 'seem': 297, 'dry': 298, 'bright': 299, 'fact': 300, 'leave': 301, 'followed': 302, 'croquet': 303, 'lying': 304, 'work': 305, 'want': 306, 'ready': 307, 'help': 308, 'hard': 309, 'changed': 310, 'different': 311, 'william': 312, 'eagerly': 313, 'sit': 314, 'meaning': 315, 'running': 316, 'everybody': 317, 'exactly': 318, 'story': 319, 'window': 320, 'place': 321, 'appeared': 322, 'wood': 323, 'mushroom': 324, 'nose': 325, 'tree': 326, 'fish': 327, 'ground': 328, 'asleep': 329, 'hearts': 330, 'interrupted': 331, 'gardeners': 332, 'moral': 333, 'dance': 334, 'whiting': 335, 'slates': 336, 'adventures': 337, 'hot': 338, 'watch': 339, 'pocket': 340, 'world': 341, 'deep': 342, 'somebody': 343, 'fall': 344, 'listen': 345, 'distance': 346, 'heads': 347, 'fancy': 348, 'begun': 349, 'dream': 350, 'middle': 351, 'wondering': 352, 'golden': 353, 'open': 354, 'larger': 355, 'neck': 356, 'drink': 357, 'hold': 358, 'generally': 359, 'eye': 360, 'kind': 361, 'sir': 362, 'hair': 363, 'goes': 364, 'five': 365, 'repeat': 366, 'live': 367, 'play': 368, 'frightened': 369, 'chin': 370, 'history': 371, 'beg': 372, 'fetch': 373, 'important': 374, 'nobody': 375, 'stood': 376, 'grown': 377, 'trees': 378, 'puppy': 379, 'pepper': 380, 'cheshire': 381, 'pleased': 382, 'song': 383, 'mean': 384, 'bread': 385, 'hedgehog': 386, 'soo': 387, 'oop': 388, 'trouble': 389, 'fell': 390, 'nice': 391, 'written': 392, 'leaves': 393, 'jumped': 394, 'roof': 395, 'inches': 396, 'along': 397, 'marked': 398, 'almost': 399, 'ten': 400, 'surprised': 401, 'stop': 402, 'feeling': 403, 'times': 404, 'grin': 405, 'understand': 406, 'sentence': 407, 'trembling': 408, 'subject': 409, 'lory': 410, 'politely': 411, 'melancholy': 412, 'liked': 413, 'piece': 414, 'others': 415, 'executed': 416, 'broken': 417, 'chimney': 418, 'full': 419, 'write': 420, 'loud': 421, 'sharp': 422, 'shouted': 423, 'lizard': 424, 'guinea': 425, 'pigs': 426, 'arms': 427, 'father': 428, 'youth': 429, 'sleep': 430, 'silent': 431, 'sneezing': 432, 'told': 433, 'ear': 434, 'writing': 435, 'twinkle': 436, 'treacle': 437, 'executioner': 438, 'school': 439, 'e': 440, 'tarts': 441, 'evidence': 442, 'tired': 443, 'sleepy': 444, 'stupid': 445, 'across': 446, 'curiosity': 447, 'passed': 448, 'home': 449, 'walk': 450, 'new': 451, 'manage': 452, 'asking': 453, 'night': 454, 'sometimes': 455, 'walking': 456, 'ears': 457, 'sadly': 458, 'shut': 459, 'happened': 460, 'simple': 461, 'cut': 462, 'finger': 463, 'forgotten': 464, 'nervous': 465, 'altogether': 466, 'remembered': 467, 'happens': 468, 'english': 469, 'pair': 470, 'nonsense': 471, 'nine': 472, 'kid': 473, 'usual': 474, 'morning': 475, 'seven': 476, 'wrong': 477, 'sounded': 478, 'strange': 479, 'seems': 480, 'learn': 481, 'sudden': 482, 'water': 483, 'case': 484, 'number': 485, 'swam': 486, 'nearer': 487, 'speaking': 488, 'pardon': 489, 'shrill': 490, 'angry': 491, 'crowded': 492, 'race': 493, 'means': 494, 'notice': 495, 'dare': 496, 'confusion': 497, 'reply': 498, 'finish': 499, 'impatiently': 500, 'temper': 501, 'young': 502, 'direction': 503, 'interesting': 504, 'taking': 505, 'shriek': 506, 'drew': 507, 'sky': 508, 'instantly': 509, 'surprise': 510, 'height': 511, 'quietly': 512, 'hookah': 513, 'man': 514, 'stand': 515, 'often': 516, 'draw': 517, 'eggs': 518, 'meant': 519, 'dreadfully': 520, 'waving': 521, 'clock': 522, 'sing': 523, 'faces': 524, 'procession': 525, 'rule': 526, 'pack': 527, 'knee': 528, 'whispered': 529, 'flamingo': 530, 'tis': 531, 'lobster': 532, 'lobsters': 533, 'join': 534, 'evening': 535, 'unimportant': 536, 'twice': 537, 'pictures': 538, 'worth': 539, 'natural': 540, 'hole': 541, 'fear': 542, 'managed': 543, 'fallen': 544, 'earth': 545, 'several': 546, 'sound': 547, 'girl': 548, 'miss': 549, 'mice': 550, 'catch': 551, 'bats': 552, 'passage': 553, 'corner': 554, 'late': 555, 'except': 556, 'tiny': 557, 'second': 558, 'led': 559, 'paper': 560, 'taught': 561, 'ventured': 562, 'reach': 563, 'sharply': 564, 'severely': 565, 'person': 566, 'care': 567, 'shoes': 568, 'violently': 569, 'dropped': 570, 'age': 571, 'mabel': 572, 'besides': 573, 'twelve': 574, 'capital': 575, 'stay': 576, 'shrinking': 577, 'digging': 578, 'likely': 579, 'french': 580, 'fire': 581, 'paws': 582, 'says': 583, 'pale': 584, 'shore': 585, 'animals': 586, 'tale': 587, 'uncomfortable': 588, 'argument': 589, 'wanted': 590, 'frowning': 591, 'solemnly': 592, 'pointing': 593, 'confused': 594, 'thimble': 595, 'short': 596, 'bowed': 597, 'judge': 598, 'breath': 599, 'sighed': 600, 'particular': 601, 'moved': 602, 'since': 603, 'swim': 604, 'vanished': 605, 'run': 606, 'chance': 607, 'ordered': 608, 'outside': 609, 'yer': 610, 'honour': 611, 'sounds': 612, 'business': 613, 'hearing': 614, 'slate': 615, 'master': 616, 'thank': 617, 'doubt': 618, 'lay': 619, 'crowd': 620, 'held': 621, 'difficulty': 622, 'stick': 623, 'grass': 624, 'become': 625, 'perfectly': 626, 'none': 627, 'questions': 628, 'decidedly': 629, 'thoughtfully': 630, 'serpent': 631, 'indignantly': 632, 'taken': 633, 'lives': 634, 'otherwise': 635, 'dish': 636, 'days': 637, 'kitchen': 638, 'jumping': 639, 'carried': 640, 'hours': 641, 'busily': 642, 'beat': 643, 'verse': 644, 'creature': 645, 'grunted': 646, 'less': 647, 'fast': 648, 'crumbs': 649, 'shoulder': 650, 'sigh': 651, 'bottom': 652, 'begins': 653, 'rose': 654, 'consider': 655, 'arches': 656, 'players': 657, 'sobs': 658, 'porpoise': 659, 'mouths': 660, 'beau': 661, 'ootiful': 662, 'jurors': 663, 'verdict': 664, 'officers': 665, 'suppressed': 666, 'jurymen': 667, 'verses': 668, 'wonderland': 669, 'bank': 670, 'peeped': 671, 'reading': 672, 'considering': 673, 'dark': 674, 'sides': 675, 'filled': 676, 'past': 677, 'miles': 678, 'somewhere': 679, 'knowledge': 680, 'grand': 681, 'listening': 682, 'hope': 683, 'bat': 684, 'hurt': 685, 'lost': 686, 'longer': 687, 'hanging': 688, 'alas': 689, 'delight': 690, 'shoulders': 691, 'telescope': 692, 'impossible': 693, 'hoping': 694, 'rules': 695, 'poison': 696, 'red': 697, 'deeply': 698, 'knife': 699, 'certain': 700, 'later': 701, 'finding': 702, 'candle': 703, 'decided': 704, 'possibly': 705, 'legs': 706, 'bring': 707, 'fond': 708, 'cake': 709, 'smaller': 710, 'holding': 711, 'remained': 712, 'expecting': 713, 'dull': 714, 'opening': 715, 'dears': 716, 'directions': 717, 'love': 718, 'cry': 719, 'pattering': 720, 'muttering': 721, 'savage': 722, 'timid': 723, 'yesterday': 724, 'sorts': 725, 'puzzling': 726, 'twenty': 727, 'doth': 728, 'crossed': 729, 'hoarse': 730, 'spread': 731, 'gently': 732, 'putting': 733, 'guess': 734, 'cause': 735, 'worse': 736, 'slipped': 737, 'general': 738, 'notion': 739, 'lesson': 740, 'show': 741, 'nurse': 742, 'dog': 743, 'throw': 744, 'passion': 745, 'duck': 746, 'fur': 747, 'cross': 748, 'sulky': 749, 'allow': 750, 'frog': 751, 'crown': 752, 'move': 753, 'pressed': 754, 'prizes': 755, 'chorus': 756, 'voices': 757, 'handed': 758, 'gravely': 759, 'speech': 760, 'cheered': 761, 'grave': 762, 'simply': 763, 'solemn': 764, 'noise': 765, 'choked': 766, 'whisper': 767, 'sad': 768, 'sighing': 769, 'fury': 770, 'met': 771, 'easily': 772, 'joined': 773, 'aloud': 774, 'venture': 775, 'carefully': 776, 'remarking': 777, 'suit': 778, 'mentioned': 779, 'guessed': 780, 'hunting': 781, 'mistake': 782, 'plate': 783, 'knocking': 784, 'real': 785, 'floor': 786, 'effect': 787, 'elbow': 788, 'stopped': 789, 'forgetting': 790, 'crash': 791, 'em': 792, 'fellow': 793, 'dead': 794, 'sense': 795, 'moving': 796, 'cakes': 797, 'plan': 798, 'paw': 799, 'hungry': 800, 'picked': 801, 'escape': 802, 'edge': 803, 'immediately': 804, 'folded': 805, 'present': 806, 'confusing': 807, 'brought': 808, 'remarks': 809, 'pray': 810, 'answered': 811, 'free': 812, 'green': 813, 'shaking': 814, 'succeeded': 815, 'serpents': 816, 'girls': 817, 'tasted': 818, 'settled': 819, 'pieces': 820, 'nibbling': 821, 'bringing': 822, 'livery': 823, 'considered': 824, 'loudly': 825, 'letter': 826, 'order': 827, 'staring': 828, 'howling': 829, 'instance': 830, 'repeating': 831, 'nursing': 832, 'courage': 833, 'grinned': 834, 'growl': 835, 'faster': 836, 'advantage': 837, 'boy': 838, 'tossing': 839, 'caught': 840, 'shaped': 841, 'proper': 842, 'sobbing': 843, 'instead': 844, 'civil': 845, 'cautiously': 846, 'music': 847, 'twinkling': 848, 'fly': 849, 'lady': 850, 'lived': 851, 'upset': 852, 'muchness': 853, 'roses': 854, 'watching': 855, 'checked': 856, 'eager': 857, 'guests': 858, 'cards': 859, 'unfortunate': 860, 'execution': 861, 'hedgehogs': 862, 'tucked': 863, 'turns': 864, 'alive': 865, 'friend': 866, 'anxious': 867, 'true': 868, 'mustard': 869, 'exclaimed': 870, 'tortoise': 871, 'drawling': 872, 'week': 873, 'quadrille': 874, 'figure': 875, 'mark': 876, 'snail': 877, 'tails': 878, 'obliged': 879, 'follows': 880, 'around': 881, 'owl': 882, 'panther': 883, 'pie': 884, 'trumpet': 885, 'spectacles': 886, 'teacup': 887, 'wrote': 888, 'list': 889, 'fit': 890, 'pleasure': 891, 'picking': 892, 'remarkable': 893, 'afterwards': 894, 'occurred': 895, 'waistcoat': 896, 'started': 897, 'hedge': 898, 'straight': 899, 'dipped': 900, 'falling': 901, 'cupboards': 902, 'shelves': 903, 'jar': 904, 'tumbling': 905, 'stairs': 906, 'thousand': 907, 'learnt': 908, 'showing': 909, 'latitude': 910, 'longitude': 911, 'funny': 912, 'milk': 913, 'earnestly': 914, 'wind': 915, 'whiskers': 916, 'row': 917, 'doors': 918, 'legged': 919, 'locks': 920, 'longed': 921, 'beds': 922, 'flowers': 923, 'cool': 924, 'fountains': 925, 'shutting': 926, 'label': 927, 'beautifully': 928, 'wise': 929, 'wild': 930, 'beasts': 931, 'unpleasant': 932, 'friends': 933, 'burn': 934, 'usually': 935, 'sooner': 936, 'taste': 937, 'mixed': 938, 'lovely': 939, 'crying': 940, 'advice': 941, 'playing': 942, 'forgot': 943, 'bye': 944, 'boots': 945, 'sending': 946, 'presents': 947, 'struck': 948, 'ashamed': 949, 'trotting': 950, 'ah': 951, 'ringlets': 952, 'six': 953, 'paris': 954, 'rome': 955, 'lap': 956, 'neatly': 957, 'claws': 958, 'smiling': 959, 'jaws': 960, 'rapidly': 961, 'salt': 962, 'railway': 963, 'conclusion': 964, 'wherever': 965, 'splashing': 966, 'swimming': 967, 'wink': 968, 'conqueror': 969, 'clear': 970, 'ago': 971, 'fright': 972, 'animal': 973, 'feelings': 974, 'quiet': 975, 'purring': 976, 'nicely': 977, 'washing': 978, 'catching': 979, 'brown': 980, 'dinner': 981, 'belongs': 982, 'useful': 983, 'sorrowful': 984, 'dogs': 985, 'hate': 986, 'eaglet': 987, 'caucus': 988, 'assembled': 989, 'wet': 990, 'older': 991, 'knowing': 992, 'authority': 993, 'ring': 994, 'whose': 995, 'edwin': 996, 'morcar': 997, 'earls': 998, 'mercia': 999, 'northumbria': 1000, 'archbishop': 1001, 'advisable': 1002, 'hurriedly': 1003, 'meet': 1004, 'offer': 1005, 'smile': 1006, 'easy': 1007, 'hour': 1008, 'panting': 1009, 'forehead': 1010, 'position': 1011, 'comfits': 1012, 'luckily': 1013, 'absurd': 1014, 'caused': 1015, 'law': 1016, 'wasting': 1017, 'humbly': 1018, 'bend': 1019, 'pleaded': 1020, 'crab': 1021, 'bird': 1022, 'sensation': 1023, 'throat': 1024, 'alone': 1025, 'lonely': 1026, 'footsteps': 1027, 'ferrets': 1028, 'nowhere': 1029, 'mary': 1030, 'ann': 1031, 'messages': 1032, 'directly': 1033, 'ordering': 1034, 'drunk': 1035, 'stoop': 1036, 'curled': 1037, 'whatever': 1038, 'unhappy': 1039, 'fancied': 1040, 'woman': 1041, 'books': 1042, 'trembled': 1043, 'proved': 1044, 'snatch': 1045, 'concluded': 1046, 'cucumber': 1047, 'pat': 1048, 'apples': 1049, 'bear': 1050, 'kick': 1051, 'feeble': 1052, 'squeaking': 1053, 'comes': 1054, 'shower': 1055, 'pebbles': 1056, 'rattling': 1057, 'hit': 1058, 'delighted': 1059, 'giving': 1060, 'rush': 1061, 'safe': 1062, 'wandered': 1063, 'excellent': 1064, 'smallest': 1065, 'bark': 1066, 'stretching': 1067, 'coaxing': 1068, 'thistle': 1069, 'stretched': 1070, 'tiptoe': 1071, 'smoking': 1072, 'addressed': 1073, 'encouraging': 1074, 'contemptuously': 1075, 'anger': 1076, 'unfolded': 1077, 'busy': 1078, 'somersault': 1079, 'sell': 1080, 'weak': 1081, 'lasted': 1082, 'eel': 1083, 'clever': 1084, 'stuff': 1085, 'changing': 1086, 'wretched': 1087, 'chose': 1088, 'yawned': 1089, 'merely': 1090, 'taller': 1091, 'shorter': 1092, 'difficult': 1093, 'broke': 1094, 'nibbled': 1095, 'violent': 1096, 'blow': 1097, 'lefthand': 1098, 'alarm': 1099, 'follow': 1100, 'distant': 1101, 'wandering': 1102, 'roots': 1103, 'attending': 1104, 'doubtfully': 1105, 'telling': 1106, 'matters': 1107, 'entangled': 1108, 'branches': 1109, 'invitation': 1110, 'laughed': 1111, 'secondly': 1112, 'inside': 1113, 'extraordinary': 1114, 'within': 1115, 'constant': 1116, 'maybe': 1117, 'dreadful': 1118, 'drive': 1119, 'leaning': 1120, 'stirring': 1121, 'cauldron': 1122, 'pause': 1123, 'sneeze': 1124, 'introduce': 1125, 'throwing': 1126, 'plates': 1127, 'dishes': 1128, 'already': 1129, 'takes': 1130, 'hint': 1131, 'singing': 1132, 'line': 1133, 'sneezes': 1134, 'sang': 1135, 'thoroughly': 1136, 'threw': 1137, 'missed': 1138, 'twist': 1139, 'also': 1140, 'extremely': 1141, 'neither': 1142, 'ugly': 1143, 'startled': 1144, 'explanation': 1145, 'denied': 1146, 'invited': 1147, 'became': 1148, 'appear': 1149, 'raving': 1150, 'ending': 1151, 'raised': 1152, 'front': 1153, 'using': 1154, 'cushion': 1155, 'resting': 1156, 'wine': 1157, 'laid': 1158, 'wants': 1159, 'personal': 1160, 'rude': 1161, 'wide': 1162, 'riddles': 1163, 'breathe': 1164, 'break': 1165, 'uneasily': 1166, 'meekly': 1167, 'cup': 1168, 'tells': 1169, 'year': 1170, 'spoon': 1171, 'concert': 1172, 'wash': 1173, 'yawning': 1174, 'sisters': 1175, 'names': 1176, 'ill': 1177, 'living': 1178, 'triumphantly': 1179, 'sulkily': 1180, 'learning': 1181, 'interrupting': 1182, 'rubbing': 1183, 'manner': 1184, 'closed': 1185, 'flower': 1186, 'painting': 1187, 'beheaded': 1188, 'flat': 1189, 'carrying': 1190, 'courtiers': 1191, 'ornamented': 1192, 'royal': 1193, 'mostly': 1194, 'crimson': 1195, 'doubtful': 1196, 'lie': 1197, 'smiled': 1198, 'scream': 1199, 'flamingoes': 1200, 'body': 1201, 'laughing': 1202, 'unrolled': 1203, 'quarrelling': 1204, 'stamping': 1205, 'shouting': 1206, 'dispute': 1207, 'removed': 1208, 'fight': 1209, 'collected': 1210, 'unless': 1211, 'entirely': 1212, 'disappeared': 1213, 'wildly': 1214, 'tempered': 1215, 'sugar': 1216, 'forget': 1217, 'tut': 1218, 'keeping': 1219, 'experiment': 1220, 'bite': 1221, 'agree': 1222, 'imagine': 1223, 'custody': 1224, 'executions': 1225, 'sun': 1226, 'watched': 1227, 'heart': 1228, 'heavy': 1229, 'proud': 1230, 'relief': 1231, 'regular': 1232, 'uglification': 1233, 'mystery': 1234, 'recovered': 1235, 'delightful': 1236, 'turtles': 1237, 'advance': 1238, 'dancing': 1239, 'treading': 1240, 'toes': 1241, 'kindly': 1242, 'dinn': 1243, 'thoughts': 1244, 'part': 1245, 'editions': 1246, 'tones': 1247, 'pennyworth': 1248, 'scroll': 1249, 'parchment': 1250, 'wig': 1251, 'pencil': 1252, 'quickly': 1253, 'blew': 1254, 'blasts': 1255, 'summer': 1256, 'sent': 1257, 'fashion': 1258, 'singers': 1259, 'miserable': 1260, 'examine': 1261, 'undertone': 1262, 'goldfish': 1263, 'accident': 1264, 'note': 1265, 'mile': 1266, 'signed': 1267, 'proves': 1268, 'returned': 1269, 'atom': 1270, 'wonderful': 1271, 'teacups': 1272, 'lewis': 1273, 'carroll': 1274, 'conversations': 1275, 'daisy': 1276, 'chain': 1277, 'daisies': 1278, 'pink': 1279, 'wondered': 1280, 'actually': 1281, 'flashed': 1282, 'burning': 1283, 'field': 1284, 'fortunately': 1285, 'pop': 1286, 'tunnel': 1287, 'stopping': 1288, 'plenty': 1289, 'maps': 1290, 'hung': 1291, 'pegs': 1292, 'labelled': 1293, 'orange': 1294, 'marmalade': 1295, 'disappointment': 1296, 'empty': 1297, 'drop': 1298, 'killing': 1299, 'brave': 1300, 'centre': 1301, 'schoolroom': 1302, 'practice': 1303, 'downward': 1304, 'antipathies': 1305, 'country': 1306, 'zealand': 1307, 'australia': 1308, 'curtsey': 1309, 'curtseying': 1310, 'ignorant': 1311, 'saucer': 1312, 'dreamy': 1313, 'dozing': 1314, 'truth': 1315, 'heap': 1316, 'sticks': 1317, 'overhead': 1318, 'hurrying': 1319, 'lit': 1320, 'lamps': 1321, 'locked': 1322, 'solid': 1323, 'belong': 1324, 'curtain': 1325, 'fifteen': 1326, 'lock': 1327, 'fitted': 1328, 'rat': 1329, 'knelt': 1330, 'loveliest': 1331, 'wander': 1332, 'doorway': 1333, 'lately': 1334, 'telescopes': 1335, 'printed': 1336, 'letters': 1337, 'histories': 1338, 'burnt': 1339, 'eaten': 1340, 'poker': 1341, 'bleeds': 1342, 'disagree': 1343, 'flavour': 1344, 'cherry': 1345, 'tart': 1346, 'custard': 1347, 'pine': 1348, 'apple': 1349, 'roast': 1350, 'turkey': 1351, 'toffee': 1352, 'buttered': 1353, 'toast': 1354, 'brightened': 1355, 'shrink': 1356, 'flame': 1357, 'blown': 1358, 'plainly': 1359, 'climb': 1360, 'slippery': 1361, 'advise': 1362, 'seldom': 1363, 'scolded': 1364, 'cheated': 1365, 'pretending': 1366, 'pretend': 1367, 'respectable': 1368, 'currants': 1369, 'creep': 1370, 'ate': 1371, 'eats': 1372, 'common': 1373, 'largest': 1374, 'stockings': 1375, 'christmas': 1376, 'planning': 1377, 'carrier': 1378, 'odd': 1379, 'esq': 1380, 'hearthrug': 1381, 'fender': 1382, 'hopeless': 1383, 'shedding': 1384, 'gallons': 1385, 'reaching': 1386, 'dried': 1387, 'returning': 1388, 'splendidly': 1389, 'dressed': 1390, 'desperate': 1391, 'skurried': 1392, 'darkness': 1393, 'fanning': 1394, 'puzzle': 1395, 'ada': 1396, 'thirteen': 1397, 'multiplication': 1398, 'signify': 1399, 'geography': 1400, 'london': 1401, 'crocodile': 1402, 'improve': 1403, 'shining': 1404, 'pour': 1405, 'waters': 1406, 'nile': 1407, 'scale': 1408, 'cheerfully': 1409, 'welcome': 1410, 'fishes': 1411, 'poky': 1412, 'toys': 1413, 'burst': 1414, 'measure': 1415, 'avoid': 1416, 'existence': 1417, 'speed': 1418, 'splash': 1419, 'somehow': 1420, 'seaside': 1421, 'coast': 1422, 'bathing': 1423, 'machines': 1424, 'sand': 1425, 'wooden': 1426, 'spades': 1427, 'lodging': 1428, 'houses': 1429, 'station': 1430, 'wept': 1431, 'punished': 1432, 'drowned': 1433, 'walrus': 1434, 'hippopotamus': 1435, 'harm': 1436, 'brother': 1437, 'latin': 1438, 'grammar': 1439, 'inquisitively': 1440, 'daresay': 1441, 'ou': 1442, 'est': 1443, 'chatte': 1444, 'leap': 1445, 'quiver': 1446, 'passionate': 1447, 'soothing': 1448, 'lazily': 1449, 'sits': 1450, 'licking': 1451, 'soft': 1452, 'bristling': 1453, 'family': 1454, 'hated': 1455, 'nasty': 1456, 'vulgar': 1457, 'eyed': 1458, 'terrier': 1459, 'curly': 1460, 'farmer': 1461, 'hundred': 1462, 'pounds': 1463, 'kills': 1464, 'rats': 1465, 'commotion': 1466, 'softly': 1467, 'draggled': 1468, 'feathers': 1469, 'clinging': 1470, 'dripping': 1471, 'consultation': 1472, 'familiarly': 1473, 'known': 1474, 'positively': 1475, 'refused': 1476, 'fixed': 1477, 'bad': 1478, 'cold': 1479, 'driest': 1480, 'favoured': 1481, 'pope': 1482, 'submitted': 1483, 'leaders': 1484, 'accustomed': 1485, 'usurpation': 1486, 'conquest': 1487, 'shiver': 1488, 'declared': 1489, 'stigand': 1490, 'patriotic': 1491, 'canterbury': 1492, 'crossly': 1493, 'worm': 1494, 'edgar': 1495, 'atheling': 1496, 'conduct': 1497, 'moderate': 1498, 'insolence': 1499, 'normans': 1500, 'rising': 1501, 'meeting': 1502, 'adjourn': 1503, 'immediate': 1504, 'adoption': 1505, 'energetic': 1506, 'remedies': 1507, 'bent': 1508, 'hide': 1509, 'tittered': 1510, 'audibly': 1511, 'paused': 1512, 'inclined': 1513, 'winter': 1514, 'circle': 1515, 'exact': 1516, 'shape': 1517, 'placed': 1518, 'shakespeare': 1519, 'calling': 1520, 'despair': 1521, 'pulled': 1522, 'prize': 1523, 'presented': 1524, 'acceptance': 1525, 'elegant': 1526, 'laugh': 1527, 'complained': 1528, 'ones': 1529, 'patted': 1530, 'begged': 1531, 'promised': 1532, 'c': 1533, 'prosecute': 1534, 'denial': 1535, 'cur': 1536, 'cunning': 1537, 'condemn': 1538, 'death': 1539, 'fifth': 1540, 'undo': 1541, 'insult': 1542, 'growled': 1543, 'quicker': 1544, 'daughter': 1545, 'lose': 1546, 'snappishly': 1547, 'patience': 1548, 'oyster': 1549, 'addressing': 1550, 'pet': 1551, 'magpie': 1552, 'wrapping': 1553, 'canary': 1554, 'bed': 1555, 'various': 1556, 'pretexts': 1557, 'spirited': 1558, 'sends': 1559, 'naturedly': 1560, 'completely': 1561, 'pointed': 1562, 'housemaid': 1563, 'neat': 1564, 'brass': 1565, 'w': 1566, 'engraved': 1567, 'upstairs': 1568, 'lest': 1569, 'fancying': 1570, 'tidy': 1571, 'hoped': 1572, 'pairs': 1573, 'nevertheless': 1574, 'uncorked': 1575, 'lips': 1576, 'whenever': 1577, 'expected': 1578, 'pressing': 1579, 'ceiling': 1580, 'save': 1581, 'kneel': 1582, 'resource': 1583, 'magic': 1584, 'grew': 1585, 'pleasanter': 1586, 'rabbits': 1587, 'fairy': 1588, 'tales': 1589, 'comfort': 1590, 'foolish': 1591, 'presently': 1592, 'inwards': 1593, 'attempt': 1594, 'failure': 1595, 'possible': 1596, 'frame': 1597, 'fills': 1598, 'whispers': 1599, 'shrieks': 1600, 'frames': 1601, 'pulling': 1602, 'rumbling': 1603, 'cartwheels': 1604, 'ladder': 1605, 'lad': 1606, 'tie': 1607, 'rope': 1608, 'loose': 1609, 'nay': 1610, 'shy': 1611, 'fireplace': 1612, 'narrow': 1613, 'scratching': 1614, 'scrambling': 1615, 'brandy': 1616, 'choke': 1617, 'ye': 1618, 'flustered': 1619, 'jack': 1620, 'rocket': 1621, 'barrowful': 1622, 'produced': 1623, 'swallowed': 1624, 'thick': 1625, 'arranged': 1626, 'peering': 1627, 'enormous': 1628, 'feebly': 1629, 'touch': 1630, 'whistle': 1631, 'terribly': 1632, 'spite': 1633, 'whereupon': 1634, 'yelp': 1635, 'rushed': 1636, 'worry': 1637, 'dodged': 1638, 'tumbled': 1639, 'heels': 1640, 'cart': 1641, 'horse': 1642, 'trampled': 1643, 'series': 1644, 'charges': 1645, 'forwards': 1646, 'barking': 1647, 'hoarsely': 1648, 'tongue': 1649, 'faint': 1650, 'leant': 1651, 'buttercup': 1652, 'fanned': 1653, 'teaching': 1654, 'tricks': 1655, 'blades': 1656, 'circumstances': 1657, 'chapter': 1658, 'v': 1659, 'languid': 1660, 'shyly': 1661, 'sternly': 1662, 'clearly': 1663, 'sizes': 1664, 'chrysalis': 1665, 'butterfly': 1666, 'irritated': 1667, 'state': 1668, 'promising': 1669, 'swallowing': 1670, 'wait': 1671, 'puffed': 1672, 'bee': 1673, 'incessantly': 1674, 'son': 1675, 'feared': 1676, 'injure': 1677, 'brain': 1678, 'uncommonly': 1679, 'fat': 1680, 'sage': 1681, 'grey': 1682, 'limbs': 1683, 'supple': 1684, 'ointment': 1685, 'shilling': 1686, 'couple': 1687, 'tougher': 1688, 'suet': 1689, 'goose': 1690, 'bones': 1691, 'beak': 1692, 'argued': 1693, 'wife': 1694, 'muscular': 1695, 'strength': 1696, 'jaw': 1697, 'steady': 1698, 'balanced': 1699, 'awfully': 1700, 'airs': 1701, 'altered': 1702, 'contradicted': 1703, 'losing': 1704, 'rearing': 1705, 'upright': 1706, 'piteous': 1707, 'patiently': 1708, 'crawled': 1709, 'underneath': 1710, 'closely': 1711, 'swallow': 1712, 'morsel': 1713, 'immense': 1714, 'length': 1715, 'rise': 1716, 'stalk': 1717, 'result': 1718, 'curving': 1719, 'graceful': 1720, 'zigzag': 1721, 'dive': 1722, 'tops': 1723, 'hiss': 1724, 'flown': 1725, 'beating': 1726, 'wings': 1727, 'subdued': 1728, 'sob': 1729, 'banks': 1730, 'hedges': 1731, 'hatching': 1732, 'weeks': 1733, 'sorry': 1734, 'annoyed': 1735, 'highest': 1736, 'raising': 1737, 'needs': 1738, 'wriggling': 1739, 'invent': 1740, 'changes': 1741, 'deepest': 1742, 'contempt': 1743, 'denying': 1744, 'egg': 1745, 'truthful': 1746, 'adding': 1747, 'raw': 1748, 'nest': 1749, 'crouched': 1750, 'untwist': 1751, 'whoever': 1752, 'frighten': 1753, 'wits': 1754, 'righthand': 1755, 'judging': 1756, 'rapped': 1757, 'knuckles': 1758, 'footmen': 1759, 'powdered': 1760, 'crept': 1761, 'producing': 1762, 'curls': 1763, 'stupidly': 1764, 'knocked': 1765, 'reasons': 1766, 'kettle': 1767, 'knock': 1768, 'uncivil': 1769, 'tomorrow': 1770, 'skimming': 1771, 'grazed': 1772, 'louder': 1773, 'muttered': 1774, 'argue': 1775, 'crazy': 1776, 'variations': 1777, 'whistling': 1778, 'desperately': 1779, 'idiotic': 1780, 'smoke': 1781, 'stool': 1782, 'sneezed': 1783, 'occasionally': 1784, 'alternately': 1785, 'hearth': 1786, 'grinning': 1787, 'manners': 1788, 'grins': 1789, 'violence': 1790, 'fix': 1791, 'irons': 1792, 'saucepans': 1793, 'blows': 1794, 'agony': 1795, 'terror': 1796, 'precious': 1797, 'unusually': 1798, 'saucepan': 1799, 'flew': 1800, 'minded': 1801, 'axis': 1802, 'axes': 1803, 'chop': 1804, 'glanced': 1805, 'bother': 1806, 'abide': 1807, 'figures': 1808, 'lullaby': 1809, 'shake': 1810, 'roughly': 1811, 'annoy': 1812, 'knows': 1813, 'teases': 1814, 'howled': 1815, 'enjoy': 1816, 'pleases': 1817, 'flinging': 1818, 'frying': 1819, 'pan': 1820, 'star': 1821, 'snorting': 1822, 'steam': 1823, 'engine': 1824, 'doubling': 1825, 'straightening': 1826, 'knot': 1827, 'tight': 1828, 'prevent': 1829, 'undoing': 1830, 'kill': 1831, 'murder': 1832, 'grunt': 1833, 'expressing': 1834, 'snout': 1835, 'seriously': 1836, 'sobbed': 1837, 'carry': 1838, 'relieved': 1839, 'trot': 1840, 'handsome': 1841, 'seeing': 1842, 'bough': 1843, 'yards': 1844, 'natured': 1845, 'teeth': 1846, 'treated': 1847, 'respect': 1848, 'puss': 1849, 'wider': 1850, 'depends': 1851, 'visit': 1852, 'growls': 1853, 'wags': 1854, 'wag': 1855, 'growling': 1856, 'happening': 1857, 'hatters': 1858, 'branch': 1859, 'fig': 1860, 'appearing': 1861, 'vanishing': 1862, 'giddy': 1863, 'farther': 1864, 'chimneys': 1865, 'thatched': 1866, 'towards': 1867, 'elbows': 1868, 'chair': 1869, 'cutting': 1870, 'severity': 1871, 'raven': 1872, 'desk': 1873, 'fun': 1874, 'ravens': 1875, 'desks': 1876, 'fourth': 1877, 'works': 1878, 'grumbled': 1879, 'gloomily': 1880, 'month': 1881, 'readily': 1882, 'stays': 1883, 'poured': 1884, 'riddle': 1885, 'slightest': 1886, 'wearily': 1887, 'waste': 1888, 'answers': 1889, 'accounts': 1890, 'terms': 1891, 'mournfully': 1892, 'quarrelled': 1893, 'given': 1894, 'tray': 1895, 'pinch': 1896, 'bawled': 1897, 'murdering': 1898, 'mournful': 1899, 'whiles': 1900, 'vote': 1901, 'alarmed': 1902, 'proposal': 1903, 'fellows': 1904, 'quick': 1905, 'elsie': 1906, 'lacie': 1907, 'tillie': 1908, 'interest': 1909, 'eating': 1910, 'drinking': 1911, 'ways': 1912, 'opinion': 1913, 'helped': 1914, 'sh': 1915, 'interrupt': 1916, 'consented': 1917, 'promise': 1918, 'clean': 1919, 'unwillingly': 1920, 'jug': 1921, 'offend': 1922, 'eh': 1923, 'choosing': 1924, 'doze': 1925, 'pinched': 1926, 'woke': 1927, 'traps': 1928, 'moon': 1929, 'memory': 1930, 'drawing': 1931, 'rudeness': 1932, 'disgust': 1933, 'teapot': 1934, 'stupidest': 1935, 'leading': 1936, 'today': 1937, 'unlocking': 1938, 'entrance': 1939, 'paint': 1940, 'jogged': 1941, 'blame': 1942, 'deserved': 1943, 'spoken': 1944, 'tulip': 1945, 'onions': 1946, 'flung': 1947, 'brush': 1948, 'unjust': 1949, 'chanced': 1950, 'afore': 1951, 'clubs': 1952, 'oblong': 1953, 'corners': 1954, 'diamonds': 1955, 'merrily': 1956, 'couples': 1957, 'kings': 1958, 'queens': 1959, 'recognised': 1960, 'noticing': 1961, 'velvet': 1962, 'processions': 1963, 'opposite': 1964, 'rosetree': 1965, 'pattern': 1966, 'backs': 1967, 'glaring': 1968, 'beast': 1969, 'screamed': 1970, 'bowing': 1971, 'humble': 1972, 'meanwhile': 1973, 'examining': 1974, 'remaining': 1975, 'execute': 1976, 'protection': 1977, 'pot': 1978, 'marched': 1979, 'evidently': 1980, 'roared': 1981, 'peeping': 1982, 'pity': 1983, 'boxed': 1984, 'laughter': 1985, 'thunder': 1986, 'ridges': 1987, 'furrows': 1988, 'balls': 1989, 'mallets': 1990, 'double': 1991, 'chief': 1992, 'managing': 1993, 'comfortably': 1994, 'straightened': 1995, 'expression': 1996, 'bursting': 1997, 'provoking': 1998, 'act': 1999, 'crawling': 2000, 'ridge': 2001, 'furrow': 2002, 'send': 2003, 'doubled': 2004, 'parts': 2005, 'played': 2006, 'fighting': 2007, 'furious': 2008, 'uneasy': 2009, 'beheading': 2010, 'appearance': 2011, 'nodded': 2012, 'account': 2013, 'someone': 2014, 'fairly': 2015, 'complaining': 2016, 'quarrel': 2017, 'oneself': 2018, 'attends': 2019, 'arch': 2020, 'croqueted': 2021, 'win': 2022, 'finishing': 2023, 'kiss': 2024, 'likes': 2025, 'impertinent': 2026, 'passing': 2027, 'settling': 2028, 'difficulties': 2029, 'screaming': 2030, 'search': 2031, 'engaged': 2032, 'croqueting': 2033, 'helpless': 2034, 'appealed': 2035, 'settle': 2036, 'arguments': 2037, 'prison': 2038, 'arrow': 2039, 'fading': 2040, 'affectionately': 2041, 'pleasant': 2042, 'hopeful': 2043, 'vinegar': 2044, 'sour': 2045, 'camomile': 2046, 'bitter': 2047, 'barley': 2048, 'sweet': 2049, 'stingy': 2050, 'squeezed': 2051, 'closer': 2052, 'uncomfortably': 2053, 'bore': 2054, 'minding': 2055, 'morals': 2056, 'waist': 2057, 'feather': 2058, 'flock': 2059, 'mineral': 2060, 'attended': 2061, 'vegetable': 2062, 'cheap': 2063, 'birthday': 2064, 'dig': 2065, 'worried': 2066, 'died': 2067, 'favourite': 2068, 'linked': 2069, 'tremble': 2070, 'thunderstorm': 2071, 'fine': 2072, 'fair': 2073, 'warning': 2074, 'choice': 2075, 'absence': 2076, 'shade': 2077, 'delay': 2078, 'cost': 2079, 'sentenced': 2080, 'company': 2081, 'pardoned': 2082, 'picture': 2083, 'leaving': 2084, 'rubbed': 2085, 'chuckled': 2086, 'executes': 2087, 'ledge': 2088, 'rock': 2089, 'sorrow': 2090, 'hollow': 2091, 'occasional': 2092, 'exclamation': 2093, 'hjckrrh': 2094, 'calmly': 2095, 'sink': 2096, 'mayn': 2097, 'educations': 2098, 'learned': 2099, 'extra': 2100, 'reeling': 2101, 'writhing': 2102, 'arithmetic': 2103, 'ambition': 2104, 'distraction': 2105, 'derision': 2106, 'lifted': 2107, 'uglifying': 2108, 'beautify': 2109, 'prettier': 2110, 'uglify': 2111, 'simpleton': 2112, 'encouraged': 2113, 'counting': 2114, 'subjects': 2115, 'flappers': 2116, 'ancient': 2117, 'modern': 2118, 'seaography': 2119, 'conger': 2120, 'fainting': 2121, 'coils': 2122, 'stiff': 2123, 'classics': 2124, 'grief': 2125, 'hid': 2126, 'lessen': 2127, 'eleventh': 2128, 'holiday': 2129, 'games': 2130, 'flapper': 2131, 'bone': 2132, 'punching': 2133, 'cheeks': 2134, 'introduced': 2135, 'form': 2136, 'seals': 2137, 'salmon': 2138, 'cleared': 2139, 'jelly': 2140, 'partners': 2141, 'retire': 2142, 'bound': 2143, 'capering': 2144, 'yelled': 2145, 'land': 2146, 'dropping': 2147, 'pretty': 2148, 'forepaws': 2149, 'shingle': 2150, 'askance': 2151, 'thanked': 2152, 'scaly': 2153, 'england': 2154, 'france': 2155, 'beloved': 2156, 'thrown': 2157, 'shiny': 2158, 'blacking': 2159, 'soles': 2160, 'eels': 2161, 'shrimp': 2162, 'anywhere': 2163, 'journey': 2164, 'impatient': 2165, 'explanations': 2166, 'gained': 2167, 'listeners': 2168, 'sluggard': 2169, 'declare': 2170, 'baked': 2171, 'eyelids': 2172, 'trims': 2173, 'belt': 2174, 'buttons': 2175, 'sands': 2176, 'gay': 2177, 'lark': 2178, 'contemptuous': 2179, 'shark': 2180, 'tide': 2181, 'rises': 2182, 'sharks': 2183, 'tremulous': 2184, 'uncommon': 2185, 'explained': 2186, 'persisted': 2187, 'disobey': 2188, 'sharing': 2189, 'crust': 2190, 'gravy': 2191, 'meat': 2192, 'share': 2193, 'treat': 2194, 'boon': 2195, 'permitted': 2196, 'received': 2197, 'fork': 2198, 'banquet': 2199, 'hm': 2200, 'rich': 2201, 'tureen': 2202, 'dainties': 2203, 'cares': 2204, 'beauti': 2205, 'ful': 2206, 'panted': 2207, 'faintly': 2208, 'breeze': 2209, 'seated': 2210, 'throne': 2211, 'arrived': 2212, 'standing': 2213, 'chains': 2214, 'soldier': 2215, 'guard': 2216, 'refreshments': 2217, 'pass': 2218, 'justice': 2219, 'wore': 2220, 'frontispiece': 2221, 'comfortable': 2222, 'becoming': 2223, 'rightly': 2224, 'men': 2225, 'indignant': 2226, 'spell': 2227, 'neighbour': 2228, 'muddle': 2229, 'squeaked': 2230, 'juror': 2231, 'herald': 2232, 'accusation': 2233, 'stole': 2234, 'fourteenth': 2235, 'fifteenth': 2236, 'sixteenth': 2237, 'dates': 2238, 'reduced': 2239, 'shillings': 2240, 'pence': 2241, 'hat': 2242, 'memorandum': 2243, 'fidgeted': 2244, 'spot': 2245, 'encourage': 2246, 'shifting': 2247, 'remain': 2248, 'boldly': 2249, 'reasonable': 2250, 'pace': 2251, 'ridiculous': 2252, 'thin': 2253, 'twinkled': 2254, 'denies': 2255, 'deny': 2256, 'speaker': 2257, 'canvas': 2258, 'bag': 2259, 'tied': 2260, 'strings': 2261, 'newspapers': 2262, 'trials': 2263, 'attempts': 2264, 'applause': 2265, 'understood': 2266, 'lower': 2267, 'officer': 2268, 'folding': 2269, 'collar': 2270, 'shrieked': 2271, 'ache': 2272, 'fumbled': 2273, 'flurry': 2274, 'tipped': 2275, 'skirt': 2276, 'upsetting': 2277, 'sprawling': 2278, 'reminding': 2279, 'globe': 2280, 'accidentally': 2281, 'dismay': 2282, 'vague': 2283, 'die': 2284, 'cannot': 2285, 'proceed': 2286, 'places': 2287, 'emphasis': 2288, 'haste': 2289, 'downwards': 2290, 'unable': 2291, 'signifies': 2292, 'shock': 2293, 'pencils': 2294, 'diligently': 2295, 'overcome': 2296, 'gazing': 2297, 'respectful': 2298, 'cackled': 2299, 'forty': 2300, 'persons': 2301, 'invented': 2302, 'oldest': 2303, 'prisoner': 2304, 'directed': 2305, 'queerest': 2306, 'imitated': 2307, 'prove': 2308, 'sign': 2309, 'mischief': 2310, 'honest': 2311, 'clapping': 2312, 'guilt': 2313, 'character': 2314, 'push': 2315, 'involved': 2316, 'affair': 2317, 'trusts': 2318, 'obstacle': 2319, 'secret': 2320, 'sixpence': 2321, 'attempted': 2322, 'saves': 2323, 'spreading': 2324, 'cardboard': 2325, 'fits': 2326, 'furiously': 2327, 'inkstand': 2328, 'ink': 2329, 'trickling': 2330, 'twentieth': 2331, 'purple': 2332, 'flying': 2333, 'brushing': 2334, 'fluttered': 2335, 'wake': 2336, 'kissed': 2337, 'setting': 2338, 'dreaming': 2339, 'dreamed': 2340, 'clasped': 2341, 'toss': 2342, 'listened': 2343, 'rustled': 2344, 'splashed': 2345, 'neighbouring': 2346, 'rattle': 2347, 'shared': 2348, 'meal': 2349, 'crashed': 2350, 'choking': 2351, 'believed': 2352, 'reality': 2353, 'rustling': 2354, 'rippling': 2355, 'reeds': 2356, 'tinkling': 2357, 'sheep': 2358, 'bells': 2359, 'cries': 2360, 'shepherd': 2361, 'noises': 2362, 'clamour': 2363, 'farm': 2364, 'yard': 2365, 'lowing': 2366, 'cattle': 2367, 'lastly': 2368, 'pictured': 2369, 'riper': 2370, 'years': 2371, 'loving': 2372, 'childhood': 2373, 'gather': 2374, 'sorrows': 2375, 'joys': 2376, 'remembering': 2377}\n"
          ],
          "name": "stdout"
        }
      ]
    },
    {
      "cell_type": "code",
      "metadata": {
        "colab": {
          "base_uri": "https://localhost:8080/"
        },
        "id": "UeWwOJdSFNWN",
        "outputId": "5a1a95ae-db83-430e-aa1f-b7bf5071d6ca"
      },
      "source": [
        "from sklearn.metrics.pairwise import euclidean_distances\n",
        "distance_matrix = euclidean_distances(weights)\n",
        "print(distance_matrix.shape)\n",
        "\n",
        "similar_words = {search_term: [id2word[idx] for idx in distance_matrix[word2id[search_term]-1].argsort()[1:6]+1] \n",
        "                   for search_term in ['alice', 'little', 'hole', 'rabbit', 'deep']}\n",
        "\n",
        "similar_words"
      ],
      "execution_count": 22,
      "outputs": [
        {
          "output_type": "stream",
          "text": [
            "(2378, 2378)\n"
          ],
          "name": "stdout"
        },
        {
          "output_type": "execute_result",
          "data": {
            "text/plain": [
              "{'alice': ['wretched', 'put', 'rather', 'tried', 'court'],\n",
              " 'deep': ['engine', 'sooner', 'rosetree', 'picked', 'conclusion'],\n",
              " 'hole': ['filled', 'muttering', 'home', 'dare', 'raised'],\n",
              " 'little': ['circle', 'turtles', 'listening', 'goldfish', 'spreading'],\n",
              " 'rabbit': ['gloves', 'edgar', 'animal', 'quadrille', 'grass']}"
            ]
          },
          "metadata": {
            "tags": []
          },
          "execution_count": 22
        }
      ]
    },
    {
      "cell_type": "code",
      "metadata": {
        "id": "m4HBXrFnFcvn"
      },
      "source": [
        "def give_similar(word, length):\n",
        "  try:\n",
        "    similar_words = {search_term: [id2word[idx] for idx in distance_matrix[word2id[search_term]-1].argsort()[1:length]+1] \n",
        "                   for search_term in [word]}\n",
        "    return similar_words\n",
        "  except:\n",
        "    pass"
      ],
      "execution_count": 131,
      "outputs": []
    },
    {
      "cell_type": "code",
      "metadata": {
        "id": "YlKjw6em_zvT"
      },
      "source": [
        "\n",
        "  "
      ],
      "execution_count": 142,
      "outputs": []
    },
    {
      "cell_type": "code",
      "metadata": {
        "id": "Gj_k91Eif231"
      },
      "source": [
        "def give_context_similar(string_input, length):\n",
        "  ### leave only lowercase letters\n",
        "\n",
        "  string_input = string_input.lower()\n",
        "  valid_letters = \"abcdefghijklmnopqrstuvwxyz \"\n",
        "  for ele in string_input: \n",
        "    if ele not in valid_letters: \n",
        "        string_input = string_input.replace(ele, \"\") \n",
        "  \n",
        "  ### extract last three words of the string\n",
        "  print(string_input)\n",
        "  single_words = string_input.split()\n",
        "  words_typed = []\n",
        "  for i in range(0, len(single_words)):\n",
        "    if i < 3:\n",
        "      words_typed.append(single_words[-1 -i])   \n",
        "  print(words_typed)\n",
        "\n",
        "  ### make dictionaries of similar context words\n",
        "  try:\n",
        "    dict1 = give_similar(words_typed[0], length)\n",
        "    dict2 = give_similar(words_typed[1], length)\n",
        "    dict3 = give_similar(words_typed[2], length)\n",
        "  except:\n",
        "    pass\n",
        "  values_list1 = []\n",
        "  values_list2 = []\n",
        "  values_list3 = []\n",
        "  \n",
        "\n",
        "  \n",
        "  if(dict1):\n",
        "    values1 = dict1.values()\n",
        "    values_list1 = list(values1)\n",
        "  if(dict2):\n",
        "    values2 = dict2.values()\n",
        "    values_list2 = list(values2)\n",
        "  if(dict2):\n",
        "    values3 = dict3.values()\n",
        "    values_list3 = list(values3)\n",
        "\n",
        "  ### combine dictionaries into one list\n",
        "  long_list = []\n",
        "  for i in range(0, length - 1):\n",
        "    if (values_list1):    \n",
        "      long_list.append(values_list1[0][i])\n",
        "    if (values_list2):\n",
        "      long_list.append(values_list2[0][i])\n",
        "    if (values_list3):\n",
        "      long_list.append(values_list3[0][i])\n",
        "  \n",
        "  print(\"Combined:\")\n",
        "  print(long_list)"
      ],
      "execution_count": 162,
      "outputs": []
    },
    {
      "cell_type": "code",
      "metadata": {
        "colab": {
          "base_uri": "https://localhost:8080/"
        },
        "id": "ezV_rVbGh4Eo",
        "outputId": "55198154-be49-4f39-bdff-534ca15b865c"
      },
      "source": [
        "give_context_similar(\"why alice\", 10)"
      ],
      "execution_count": 163,
      "outputs": [
        {
          "output_type": "stream",
          "text": [
            "why alice\n",
            "['alice', 'why']\n",
            "Combined:\n",
            "['wretched', 'put', 'rather', 'tried', 'court', 'examining', 'alas', 'est', 'missed']\n"
          ],
          "name": "stdout"
        }
      ]
    },
    {
      "cell_type": "code",
      "metadata": {
        "id": "Y30J_QdyUQoo"
      },
      "source": [
        ""
      ],
      "execution_count": null,
      "outputs": []
    }
  ]
}